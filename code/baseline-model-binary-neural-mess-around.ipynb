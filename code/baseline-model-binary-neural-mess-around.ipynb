{
 "cells": [
  {
   "cell_type": "markdown",
   "metadata": {},
   "source": [
    "# Import Data"
   ]
  },
  {
   "cell_type": "code",
   "execution_count": 1,
   "metadata": {},
   "outputs": [
    {
     "name": "stderr",
     "output_type": "stream",
     "text": [
      "Using TensorFlow backend.\n"
     ]
    }
   ],
   "source": [
    "import numpy as np\n",
    "np.random.seed(1248)\n",
    "import tensorflow as tf\n",
    "import keras"
   ]
  },
  {
   "cell_type": "code",
   "execution_count": 2,
   "metadata": {},
   "outputs": [],
   "source": [
    "import pandas as pd"
   ]
  },
  {
   "cell_type": "code",
   "execution_count": 3,
   "metadata": {},
   "outputs": [],
   "source": [
    "data = pd.read_csv('../data/buffer_overflow_data.csv.gz')"
   ]
  },
  {
   "cell_type": "code",
   "execution_count": 4,
   "metadata": {},
   "outputs": [],
   "source": [
    "labels = data.copy()\n",
    "del labels['Unnamed: 0']\n",
    "del labels['Unnamed: 0.1']\n",
    "del labels['filename']\n",
    "del labels['code']\n",
    "del labels['flaw']\n",
    "del labels['flaw_loc']\n",
    "labels = labels.drop_duplicates().sort_values('testcase_ID').reset_index(drop=True)"
   ]
  },
  {
   "cell_type": "code",
   "execution_count": 5,
   "metadata": {
    "scrolled": true
   },
   "outputs": [],
   "source": [
    "x = pd.read_csv(\"../data/buffer_overflow_graph_embeddings.csv.gz\")\n",
    "x['testcase_ID'] = x['type']\n",
    "del x['type']\n",
    "x = x.sort_values(\"testcase_ID\").reset_index(drop=True)"
   ]
  },
  {
   "cell_type": "code",
   "execution_count": 6,
   "metadata": {},
   "outputs": [],
   "source": [
    "y = labels['bug']\n",
    "x = x.drop('testcase_ID', axis='columns')"
   ]
  },
  {
   "cell_type": "code",
   "execution_count": 7,
   "metadata": {},
   "outputs": [],
   "source": [
    "import pickle\n",
    "\n",
    "with open('../data/x-train-binary','rb') as f:\n",
    "    x_train = pickle.load(f)\n",
    "    \n",
    "with open('../data/y-train-binary','rb') as f:\n",
    "    y_train = pickle.load(f)\n",
    "    \n",
    "with open('../data/x-test-binary','rb') as f:\n",
    "    x_test = pickle.load(f)\n",
    "    \n",
    "with open('../data/y-test-binary','rb') as f:\n",
    "    y_test = pickle.load(f)"
   ]
  },
  {
   "cell_type": "code",
   "execution_count": 10,
   "metadata": {},
   "outputs": [
    {
     "data": {
      "text/plain": [
       "(17201,)"
      ]
     },
     "execution_count": 10,
     "metadata": {},
     "output_type": "execute_result"
    }
   ],
   "source": [
    "y_train.shape"
   ]
  },
  {
   "cell_type": "code",
   "execution_count": 11,
   "metadata": {},
   "outputs": [
    {
     "data": {
      "text/plain": [
       "(17201, 128)"
      ]
     },
     "execution_count": 11,
     "metadata": {},
     "output_type": "execute_result"
    }
   ],
   "source": [
    "x_train.shape"
   ]
  },
  {
   "cell_type": "markdown",
   "metadata": {},
   "source": [
    "# [Neural tutorial](https://towardsdatascience.com/neural-networks-from-scratch-easy-vs-hard-b26ddc2e89c7)"
   ]
  },
  {
   "cell_type": "code",
   "execution_count": 10,
   "metadata": {
    "scrolled": true
   },
   "outputs": [],
   "source": [
    "from keras.layers import Dense, Dropout, Flatten, Reshape\n",
    "from keras.layers import Conv1D, MaxPooling1D, Conv2D\n",
    "from keras.models import Sequential\n",
    "from keras.layers.normalization import BatchNormalization\n",
    "from keras.layers.advanced_activations import LeakyReLU\n",
    "from keras.optimizers import RMSprop, Adadelta, Adam\n"
   ]
  },
  {
   "cell_type": "code",
   "execution_count": 13,
   "metadata": {},
   "outputs": [
    {
     "name": "stdout",
     "output_type": "stream",
     "text": [
      "WARNING:tensorflow:From /usr/local/lib/python3.7/dist-packages/tensorflow/python/framework/op_def_library.py:263: colocate_with (from tensorflow.python.framework.ops) is deprecated and will be removed in a future version.\n",
      "Instructions for updating:\n",
      "Colocations handled automatically by placer.\n"
     ]
    }
   ],
   "source": [
    "model = Sequential()\n",
    "model.add(Dense(128, input_dim=x_train.shape[1], activation='sigmoid'))\n",
    "model.add(Dense(128, activation='sigmoid'))\n",
    "model.add(Dense(units=1, activation='sigmoid'))"
   ]
  },
  {
   "cell_type": "code",
   "execution_count": 14,
   "metadata": {
    "scrolled": true
   },
   "outputs": [
    {
     "name": "stdout",
     "output_type": "stream",
     "text": [
      "_________________________________________________________________\n",
      "Layer (type)                 Output Shape              Param #   \n",
      "=================================================================\n",
      "dense_1 (Dense)              (None, 128)               16512     \n",
      "_________________________________________________________________\n",
      "dense_2 (Dense)              (None, 128)               16512     \n",
      "_________________________________________________________________\n",
      "dense_3 (Dense)              (None, 1)                 129       \n",
      "=================================================================\n",
      "Total params: 33,153\n",
      "Trainable params: 33,153\n",
      "Non-trainable params: 0\n",
      "_________________________________________________________________\n"
     ]
    }
   ],
   "source": [
    "model.summary()"
   ]
  },
  {
   "cell_type": "code",
   "execution_count": 15,
   "metadata": {
    "scrolled": true
   },
   "outputs": [
    {
     "name": "stdout",
     "output_type": "stream",
     "text": [
      "WARNING:tensorflow:From /usr/local/lib/python3.7/dist-packages/tensorflow/python/ops/math_ops.py:3066: to_int32 (from tensorflow.python.ops.math_ops) is deprecated and will be removed in a future version.\n",
      "Instructions for updating:\n",
      "Use tf.cast instead.\n",
      "Epoch 1/50\n",
      "10751/10751 [==============================] - 1s 75us/step - loss: 0.6930 - acc: 0.5175\n",
      "Epoch 2/50\n",
      "10751/10751 [==============================] - 0s 46us/step - loss: 0.6822 - acc: 0.5573\n",
      "Epoch 3/50\n",
      "10751/10751 [==============================] - 1s 86us/step - loss: 0.6670 - acc: 0.5948\n",
      "Epoch 4/50\n",
      "10751/10751 [==============================] - 1s 116us/step - loss: 0.6442 - acc: 0.6386\n",
      "Epoch 5/50\n",
      "10751/10751 [==============================] - 1s 51us/step - loss: 0.6227 - acc: 0.6673\n",
      "Epoch 6/50\n",
      "10751/10751 [==============================] - 1s 73us/step - loss: 0.6053 - acc: 0.6792\n",
      "Epoch 7/50\n",
      "10751/10751 [==============================] - 1s 75us/step - loss: 0.5949 - acc: 0.6888\n",
      "Epoch 8/50\n",
      "10751/10751 [==============================] - 1s 82us/step - loss: 0.5753 - acc: 0.7086\n",
      "Epoch 9/50\n",
      "10751/10751 [==============================] - 1s 76us/step - loss: 0.5553 - acc: 0.7295\n",
      "Epoch 10/50\n",
      "10751/10751 [==============================] - 1s 124us/step - loss: 0.5504 - acc: 0.7283\n",
      "Epoch 11/50\n",
      "10751/10751 [==============================] - 1s 105us/step - loss: 0.5243 - acc: 0.7479\n",
      "Epoch 12/50\n",
      "10751/10751 [==============================] - 1s 122us/step - loss: 0.5069 - acc: 0.7596\n",
      "Epoch 13/50\n",
      "10751/10751 [==============================] - 1s 127us/step - loss: 0.4973 - acc: 0.7656\n",
      "Epoch 14/50\n",
      "10751/10751 [==============================] - 1s 71us/step - loss: 0.4810 - acc: 0.7770\n",
      "Epoch 15/50\n",
      "10751/10751 [==============================] - 1s 66us/step - loss: 0.4579 - acc: 0.7881\n",
      "Epoch 16/50\n",
      "10751/10751 [==============================] - 1s 77us/step - loss: 0.4522 - acc: 0.7945\n",
      "Epoch 17/50\n",
      "10751/10751 [==============================] - 1s 83us/step - loss: 0.4416 - acc: 0.7987\n",
      "Epoch 18/50\n",
      "10751/10751 [==============================] - 1s 76us/step - loss: 0.4277 - acc: 0.8071\n",
      "Epoch 19/50\n",
      "10751/10751 [==============================] - 1s 81us/step - loss: 0.4154 - acc: 0.8138\n",
      "Epoch 20/50\n",
      "10751/10751 [==============================] - 1s 78us/step - loss: 0.4032 - acc: 0.8224\n",
      "Epoch 21/50\n",
      "10751/10751 [==============================] - 1s 96us/step - loss: 0.3896 - acc: 0.8281\n",
      "Epoch 22/50\n",
      "10751/10751 [==============================] - 1s 86us/step - loss: 0.3748 - acc: 0.8368\n",
      "Epoch 23/50\n",
      "10751/10751 [==============================] - 1s 79us/step - loss: 0.3721 - acc: 0.8329\n",
      "Epoch 24/50\n",
      "10751/10751 [==============================] - 1s 92us/step - loss: 0.3500 - acc: 0.8489\n",
      "Epoch 25/50\n",
      "10751/10751 [==============================] - 1s 130us/step - loss: 0.3362 - acc: 0.8568\n",
      "Epoch 26/50\n",
      "10751/10751 [==============================] - 1s 109us/step - loss: 0.3287 - acc: 0.8618\n",
      "Epoch 27/50\n",
      "10751/10751 [==============================] - 1s 68us/step - loss: 0.3024 - acc: 0.8725\n",
      "Epoch 28/50\n",
      "10751/10751 [==============================] - 1s 74us/step - loss: 0.2934 - acc: 0.8757\n",
      "Epoch 29/50\n",
      "10751/10751 [==============================] - 1s 74us/step - loss: 0.2782 - acc: 0.8845\n",
      "Epoch 30/50\n",
      "10751/10751 [==============================] - 1s 75us/step - loss: 0.2655 - acc: 0.8892\n",
      "Epoch 31/50\n",
      "10751/10751 [==============================] - 1s 81us/step - loss: 0.2476 - acc: 0.8986\n",
      "Epoch 32/50\n",
      "10751/10751 [==============================] - 1s 66us/step - loss: 0.2540 - acc: 0.8900\n",
      "Epoch 33/50\n",
      "10751/10751 [==============================] - 1s 82us/step - loss: 0.2300 - acc: 0.9049\n",
      "Epoch 34/50\n",
      "10751/10751 [==============================] - 1s 78us/step - loss: 0.2154 - acc: 0.9123\n",
      "Epoch 35/50\n",
      "10751/10751 [==============================] - 1s 76us/step - loss: 0.2160 - acc: 0.9100\n",
      "Epoch 36/50\n",
      "10751/10751 [==============================] - 1s 75us/step - loss: 0.2072 - acc: 0.9120\n",
      "Epoch 37/50\n",
      "10751/10751 [==============================] - 0s 42us/step - loss: 0.1963 - acc: 0.9161\n",
      "Epoch 38/50\n",
      "10751/10751 [==============================] - 0s 43us/step - loss: 0.1868 - acc: 0.9219\n",
      "Epoch 39/50\n",
      "10751/10751 [==============================] - 0s 43us/step - loss: 0.1816 - acc: 0.9234\n",
      "Epoch 40/50\n",
      "10751/10751 [==============================] - 0s 43us/step - loss: 0.1791 - acc: 0.9236\n",
      "Epoch 41/50\n",
      "10751/10751 [==============================] - 0s 43us/step - loss: 0.1721 - acc: 0.9227\n",
      "Epoch 42/50\n",
      "10751/10751 [==============================] - 0s 42us/step - loss: 0.1689 - acc: 0.9277\n",
      "Epoch 43/50\n",
      "10751/10751 [==============================] - 0s 42us/step - loss: 0.1624 - acc: 0.9301\n",
      "Epoch 44/50\n",
      "10751/10751 [==============================] - 0s 42us/step - loss: 0.1530 - acc: 0.9343\n",
      "Epoch 45/50\n",
      "10751/10751 [==============================] - 0s 41us/step - loss: 0.1547 - acc: 0.9311\n",
      "Epoch 46/50\n",
      "10751/10751 [==============================] - 0s 44us/step - loss: 0.1520 - acc: 0.9341\n",
      "Epoch 47/50\n",
      "10751/10751 [==============================] - 0s 43us/step - loss: 0.1456 - acc: 0.9366\n",
      "Epoch 48/50\n",
      "10751/10751 [==============================] - 0s 42us/step - loss: 0.1451 - acc: 0.9389\n",
      "Epoch 49/50\n",
      "10751/10751 [==============================] - 1s 49us/step - loss: 0.1405 - acc: 0.9384\n",
      "Epoch 50/50\n",
      "10751/10751 [==============================] - 1s 48us/step - loss: 0.1384 - acc: 0.9402\n"
     ]
    },
    {
     "data": {
      "text/plain": [
       "<keras.callbacks.History at 0x7ff121027cf8>"
      ]
     },
     "execution_count": 15,
     "metadata": {},
     "output_type": "execute_result"
    }
   ],
   "source": [
    "model.compile(optimizer=Adadelta(), loss='binary_crossentropy', metrics=['accuracy'])\n",
    "model.fit(x_train, y_train, epochs=50, batch_size=64)"
   ]
  },
  {
   "cell_type": "code",
   "execution_count": 20,
   "metadata": {},
   "outputs": [],
   "source": [
    "# import pickle"
   ]
  },
  {
   "cell_type": "code",
   "execution_count": 21,
   "metadata": {},
   "outputs": [],
   "source": [
    "\n",
    "# with open('../data/baseline-model-binary','wb') as f:\n",
    "#     pickle.dump(model,f)"
   ]
  },
  {
   "cell_type": "code",
   "execution_count": 16,
   "metadata": {
    "scrolled": true
   },
   "outputs": [
    {
     "name": "stdout",
     "output_type": "stream",
     "text": [
      "10751/10751 [==============================] - 1s 47us/step\n"
     ]
    },
    {
     "data": {
      "text/plain": [
       "[0.13794717388287353, 0.9360989675379034]"
      ]
     },
     "execution_count": 16,
     "metadata": {},
     "output_type": "execute_result"
    }
   ],
   "source": [
    "model.evaluate(x_test,y_test)"
   ]
  },
  {
   "cell_type": "code",
   "execution_count": 26,
   "metadata": {},
   "outputs": [
    {
     "name": "stdout",
     "output_type": "stream",
     "text": [
      "Requirement already satisfied: seaborn in /usr/local/lib/python3.7/dist-packages (0.9.0)\r\n",
      "Requirement already satisfied: matplotlib>=1.4.3 in /usr/local/lib/python3.7/dist-packages (from seaborn) (3.1.0)\r\n",
      "Requirement already satisfied: numpy>=1.9.3 in /usr/local/lib/python3.7/dist-packages (from seaborn) (1.16.4)\r\n",
      "Requirement already satisfied: scipy>=0.14.0 in /usr/local/lib/python3.7/dist-packages (from seaborn) (1.3.0)\r\n",
      "Requirement already satisfied: pandas>=0.15.2 in /usr/local/lib/python3.7/dist-packages (from seaborn) (0.24.2)\r\n",
      "Requirement already satisfied: cycler>=0.10 in /usr/local/lib/python3.7/dist-packages (from matplotlib>=1.4.3->seaborn) (0.10.0)\r\n",
      "Requirement already satisfied: kiwisolver>=1.0.1 in /usr/local/lib/python3.7/dist-packages (from matplotlib>=1.4.3->seaborn) (1.1.0)\r\n",
      "Requirement already satisfied: python-dateutil>=2.1 in /usr/local/lib/python3.7/dist-packages (from matplotlib>=1.4.3->seaborn) (2.8.0)\r\n",
      "Requirement already satisfied: pyparsing!=2.0.4,!=2.1.2,!=2.1.6,>=2.0.1 in /usr/local/lib/python3.7/dist-packages (from matplotlib>=1.4.3->seaborn) (2.4.0)\r\n",
      "Requirement already satisfied: pytz>=2011k in /usr/local/lib/python3.7/dist-packages (from pandas>=0.15.2->seaborn) (2019.1)\r\n",
      "Requirement already satisfied: six in /usr/lib/python3/dist-packages (from cycler>=0.10->matplotlib>=1.4.3->seaborn) (1.12.0)\r\n",
      "Requirement already satisfied: setuptools in /usr/lib/python3/dist-packages (from kiwisolver>=1.0.1->matplotlib>=1.4.3->seaborn) (40.8.0)\r\n"
     ]
    }
   ],
   "source": [
    "!pip install seaborn"
   ]
  },
  {
   "cell_type": "code",
   "execution_count": 17,
   "metadata": {},
   "outputs": [],
   "source": [
    "import seaborn as sns\n",
    "from sklearn import metrics\n",
    "import matplotlib"
   ]
  },
  {
   "cell_type": "code",
   "execution_count": 18,
   "metadata": {},
   "outputs": [],
   "source": [
    "y_predict= model.predict(x_test)"
   ]
  },
  {
   "cell_type": "code",
   "execution_count": 19,
   "metadata": {},
   "outputs": [],
   "source": [
    "import numpy as np"
   ]
  },
  {
   "cell_type": "code",
   "execution_count": 20,
   "metadata": {},
   "outputs": [
    {
     "data": {
      "image/png": "[encoded data removed]",
      "text/plain": [
       "<Figure size 1080x864 with 2 Axes>"
      ]
     },
     "metadata": {
      "needs_background": "light"
     },
     "output_type": "display_data"
    }
   ],
   "source": [
    "confusion_matrix = pd.DataFrame(\n",
    "    data=metrics.confusion_matrix(y_test, np.rint(y_predict)), \n",
    "    \n",
    ")\n",
    "\n",
    "confusion_figure, confusion_axes = matplotlib.pyplot.subplots()\n",
    "confusion_figure.set_size_inches(15, 12)\n",
    "confusion_axes.set_title(\n",
    "    'Confusion matrix showing the frequency of \\n'\n",
    "    'correct and incorrect bug classification predictions.'\n",
    "    '\\n\\n'  # hack to avoid overlap with x-axis labels below\n",
    ")\n",
    "confusion_axes.xaxis.tick_top()  # move x-axis labels to top of matrix\n",
    "_ = sns.heatmap(\n",
    "    confusion_matrix,\n",
    "    annot=True,\n",
    "    fmt=\"d\",\n",
    "    cmap=sns.color_palette(\"Blues\"),\n",
    "    vmin=0,\n",
    "    ax=confusion_axes,\n",
    ")"
   ]
  },
  {
   "cell_type": "code",
   "execution_count": 21,
   "metadata": {},
   "outputs": [],
   "source": [
    "confusion_matrices = metrics.multilabel_confusion_matrix(\n",
    "    (y_test+0).values,\n",
    "    np.rint(y_predict)\n",
    ")"
   ]
  },
  {
   "cell_type": "code",
   "execution_count": 22,
   "metadata": {},
   "outputs": [
    {
     "ename": "AttributeError",
     "evalue": "'Series' object has no attribute 'columns'",
     "output_type": "error",
     "traceback": [
      "\u001b[0;31m---------------------------------------------------------------------------\u001b[0m",
      "\u001b[0;31mAttributeError\u001b[0m                            Traceback (most recent call last)",
      "\u001b[0;32m<ipython-input-22-a60ba33f9e68>\u001b[0m in \u001b[0;36m<module>\u001b[0;34m\u001b[0m\n\u001b[0;32m----> 1\u001b[0;31m \u001b[0;32mfor\u001b[0m \u001b[0mlabel\u001b[0m\u001b[0;34m,\u001b[0m \u001b[0mconfusion_matrix\u001b[0m \u001b[0;32min\u001b[0m \u001b[0mzip\u001b[0m\u001b[0;34m(\u001b[0m\u001b[0my_test\u001b[0m\u001b[0;34m.\u001b[0m\u001b[0mcolumns\u001b[0m\u001b[0;34m,\u001b[0m \u001b[0mconfusion_matrices\u001b[0m\u001b[0;34m)\u001b[0m\u001b[0;34m:\u001b[0m\u001b[0;34m\u001b[0m\u001b[0;34m\u001b[0m\u001b[0m\n\u001b[0m\u001b[1;32m      2\u001b[0m \u001b[0;34m\u001b[0m\u001b[0m\n\u001b[1;32m      3\u001b[0m     \u001b[0mconfusion_figure\u001b[0m\u001b[0;34m,\u001b[0m \u001b[0mconfusion_axes\u001b[0m \u001b[0;34m=\u001b[0m \u001b[0mmatplotlib\u001b[0m\u001b[0;34m.\u001b[0m\u001b[0mpyplot\u001b[0m\u001b[0;34m.\u001b[0m\u001b[0msubplots\u001b[0m\u001b[0;34m(\u001b[0m\u001b[0;34m)\u001b[0m\u001b[0;34m\u001b[0m\u001b[0;34m\u001b[0m\u001b[0m\n\u001b[1;32m      4\u001b[0m     \u001b[0mconfusion_figure\u001b[0m\u001b[0;34m.\u001b[0m\u001b[0mset_size_inches\u001b[0m\u001b[0;34m(\u001b[0m\u001b[0;36m2\u001b[0m\u001b[0;34m,\u001b[0m \u001b[0;36m1\u001b[0m\u001b[0;34m)\u001b[0m\u001b[0;34m\u001b[0m\u001b[0;34m\u001b[0m\u001b[0m\n\u001b[1;32m      5\u001b[0m     confusion_axes.set_title(\n",
      "\u001b[0;32m/usr/local/lib/python3.7/dist-packages/pandas/core/generic.py\u001b[0m in \u001b[0;36m__getattr__\u001b[0;34m(self, name)\u001b[0m\n\u001b[1;32m   5061\u001b[0m         if (name in self._internal_names_set or name in self._metadata or\n\u001b[1;32m   5062\u001b[0m                 name in self._accessors):\n\u001b[0;32m-> 5063\u001b[0;31m             \u001b[0;32mreturn\u001b[0m \u001b[0mobject\u001b[0m\u001b[0;34m.\u001b[0m\u001b[0m__getattribute__\u001b[0m\u001b[0;34m(\u001b[0m\u001b[0mself\u001b[0m\u001b[0;34m,\u001b[0m \u001b[0mname\u001b[0m\u001b[0;34m)\u001b[0m\u001b[0;34m\u001b[0m\u001b[0;34m\u001b[0m\u001b[0m\n\u001b[0m\u001b[1;32m   5064\u001b[0m         \u001b[0;32melse\u001b[0m\u001b[0;34m:\u001b[0m\u001b[0;34m\u001b[0m\u001b[0;34m\u001b[0m\u001b[0m\n\u001b[1;32m   5065\u001b[0m             \u001b[0;32mif\u001b[0m \u001b[0mself\u001b[0m\u001b[0;34m.\u001b[0m\u001b[0m_info_axis\u001b[0m\u001b[0;34m.\u001b[0m\u001b[0m_can_hold_identifiers_and_holds_name\u001b[0m\u001b[0;34m(\u001b[0m\u001b[0mname\u001b[0m\u001b[0;34m)\u001b[0m\u001b[0;34m:\u001b[0m\u001b[0;34m\u001b[0m\u001b[0;34m\u001b[0m\u001b[0m\n",
      "\u001b[0;31mAttributeError\u001b[0m: 'Series' object has no attribute 'columns'"
     ]
    }
   ],
   "source": [
    "# need to sort out the below\n",
    "\n",
    "for label, confusion_matrix in zip(y_test.columns, confusion_matrices):\n",
    "\n",
    "    confusion_figure, confusion_axes = matplotlib.pyplot.subplots()\n",
    "    confusion_figure.set_size_inches(2, 1)\n",
    "    confusion_axes.set_title(\n",
    "        label + \n",
    "        '\\n'  # hack to avoid overlap with x-axis labels below\n",
    "    )\n",
    "    confusion_axes.xaxis.tick_top()  # move x-axis labels to top of matrix\n",
    "    _ = sns.heatmap(\n",
    "        confusion_matrix,\n",
    "        annot=True,\n",
    "        fmt=\"d\",\n",
    "        cmap=sns.color_palette(\"Blues\"),\n",
    "        vmin=0,\n",
    "        ax=confusion_axes,\n",
    "    )"
   ]
  },
  {
   "cell_type": "code",
   "execution_count": 23,
   "metadata": {},
   "outputs": [
    {
     "ename": "AxisError",
     "evalue": "axis 1 is out of bounds for array of dimension 1",
     "output_type": "error",
     "traceback": [
      "\u001b[0;31m---------------------------------------------------------------------------\u001b[0m",
      "\u001b[0;31mAxisError\u001b[0m                                 Traceback (most recent call last)",
      "\u001b[0;32m<ipython-input-23-42a1dc63787d>\u001b[0m in \u001b[0;36m<module>\u001b[0;34m\u001b[0m\n\u001b[1;32m      1\u001b[0m \u001b[0;32mfrom\u001b[0m \u001b[0msklearn\u001b[0m\u001b[0;34m.\u001b[0m\u001b[0mmetrics\u001b[0m \u001b[0;32mimport\u001b[0m \u001b[0mroc_curve\u001b[0m\u001b[0;34m\u001b[0m\u001b[0;34m\u001b[0m\u001b[0m\n\u001b[0;32m----> 2\u001b[0;31m \u001b[0mfpr_keras\u001b[0m\u001b[0;34m,\u001b[0m \u001b[0mtpr_keras\u001b[0m\u001b[0;34m,\u001b[0m \u001b[0mthresholds_keras\u001b[0m \u001b[0;34m=\u001b[0m \u001b[0mroc_curve\u001b[0m\u001b[0;34m(\u001b[0m\u001b[0;34m(\u001b[0m\u001b[0my_test\u001b[0m\u001b[0;34m.\u001b[0m\u001b[0mvalues\u001b[0m\u001b[0;34m+\u001b[0m\u001b[0;36m0\u001b[0m\u001b[0;34m)\u001b[0m\u001b[0;34m.\u001b[0m\u001b[0margmax\u001b[0m\u001b[0;34m(\u001b[0m\u001b[0maxis\u001b[0m\u001b[0;34m=\u001b[0m\u001b[0;36m1\u001b[0m\u001b[0;34m)\u001b[0m\u001b[0;34m-\u001b[0m\u001b[0;36m5\u001b[0m\u001b[0;34m,\u001b[0m \u001b[0my_predict\u001b[0m\u001b[0;34m.\u001b[0m\u001b[0margmax\u001b[0m\u001b[0;34m(\u001b[0m\u001b[0maxis\u001b[0m\u001b[0;34m=\u001b[0m\u001b[0;36m1\u001b[0m\u001b[0;34m)\u001b[0m\u001b[0;34m-\u001b[0m\u001b[0;36m5\u001b[0m\u001b[0;34m)\u001b[0m\u001b[0;34m\u001b[0m\u001b[0;34m\u001b[0m\u001b[0m\n\u001b[0m",
      "\u001b[0;31mAxisError\u001b[0m: axis 1 is out of bounds for array of dimension 1"
     ]
    }
   ],
   "source": [
    "from sklearn.metrics import roc_curve\n",
    "fpr_keras, tpr_keras, thresholds_keras = roc_curve((y_test.values+0).argmax(axis=1)-5, y_predict.argmax(axis=1)-5)"
   ]
  },
  {
   "cell_type": "code",
   "execution_count": 44,
   "metadata": {
    "collapsed": true
   },
   "outputs": [
    {
     "ename": "NameError",
     "evalue": "name 'fpr_keras' is not defined",
     "output_type": "error",
     "traceback": [
      "\u001b[0;31m---------------------------------------------------------------------------\u001b[0m",
      "\u001b[0;31mNameError\u001b[0m                                 Traceback (most recent call last)",
      "\u001b[0;32m<ipython-input-44-ac2b04470f69>\u001b[0m in \u001b[0;36m<module>\u001b[0;34m\u001b[0m\n\u001b[1;32m      1\u001b[0m \u001b[0;32mfrom\u001b[0m \u001b[0msklearn\u001b[0m\u001b[0;34m.\u001b[0m\u001b[0mmetrics\u001b[0m \u001b[0;32mimport\u001b[0m \u001b[0mauc\u001b[0m\u001b[0;34m\u001b[0m\u001b[0;34m\u001b[0m\u001b[0m\n\u001b[1;32m      2\u001b[0m \u001b[0;32mimport\u001b[0m \u001b[0mmatplotlib\u001b[0m\u001b[0;34m.\u001b[0m\u001b[0mpyplot\u001b[0m \u001b[0;32mas\u001b[0m \u001b[0mplt\u001b[0m\u001b[0;34m\u001b[0m\u001b[0;34m\u001b[0m\u001b[0m\n\u001b[0;32m----> 3\u001b[0;31m \u001b[0mauc_keras\u001b[0m \u001b[0;34m=\u001b[0m \u001b[0mauc\u001b[0m\u001b[0;34m(\u001b[0m\u001b[0mfpr_keras\u001b[0m\u001b[0;34m,\u001b[0m \u001b[0mtpr_keras\u001b[0m\u001b[0;34m)\u001b[0m\u001b[0;34m\u001b[0m\u001b[0;34m\u001b[0m\u001b[0m\n\u001b[0m",
      "\u001b[0;31mNameError\u001b[0m: name 'fpr_keras' is not defined"
     ]
    }
   ],
   "source": [
    "from sklearn.metrics import auc\n",
    "import matplotlib.pyplot as plt\n",
    "auc_keras = auc(fpr_keras, tpr_keras)"
   ]
  },
  {
   "cell_type": "code",
   "execution_count": null,
   "metadata": {},
   "outputs": [],
   "source": [
    "plt.plot(fpr_keras, tpr_keras, label='Keras (area = {:.3f})'.format(auc_keras))\n",
    "plt.xlabel('False positive rate')\n",
    "plt.ylabel('True positive rate')\n",
    "plt.title('ROC curve')\n",
    "plt.legend(loc='best')\n",
    "plt.show()"
   ]
  },
  {
   "cell_type": "code",
   "execution_count": null,
   "metadata": {},
   "outputs": [],
   "source": [
    "confusion_matrix = pd.DataFrame(\n",
    "    data=metrics.confusion_matrix((y_test.values+0).argmax(axis=1), y_predict.argmax(axis=1)), \n",
    ")\n",
    "\n",
    "confusion_figure, confusion_axes = matplotlib.pyplot.subplots()\n",
    "confusion_figure.set_size_inches(10, 8)\n",
    "confusion_axes.set_title(\n",
    "    'Confusion matrix showing the frequency of \\n'\n",
    "    'correct and incorrect bug classification predictions.'\n",
    "    '\\n\\n'  # hack to avoid overlap with x-axis labels below\n",
    ")\n",
    "confusion_axes.xaxis.tick_top()  # move x-axis labels to top of matrix\n",
    "_ = sns.heatmap(\n",
    "    confusion_matrix,\n",
    "    annot=True,\n",
    "    fmt=\"d\",\n",
    "    cmap=sns.color_palette(\"Blues\"),\n",
    "    vmin=0,\n",
    "    ax=confusion_axes,\n",
    ")"
   ]
  },
  {
   "cell_type": "code",
   "execution_count": 72,
   "metadata": {
    "collapsed": true
   },
   "outputs": [
    {
     "data": {
      "text/plain": [
       "RandomForestRegressor(bootstrap=True, criterion='mse', max_depth=None,\n",
       "                      max_features='auto', max_leaf_nodes=None,\n",
       "                      min_impurity_decrease=0.0, min_impurity_split=None,\n",
       "                      min_samples_leaf=1, min_samples_split=2,\n",
       "                      min_weight_fraction_leaf=0.0, n_estimators=10,\n",
       "                      n_jobs=None, oob_score=False, random_state=42, verbose=0,\n",
       "                      warm_start=False)"
      ]
     },
     "execution_count": 72,
     "metadata": {},
     "output_type": "execute_result"
    }
   ],
   "source": [
    "from sklearn.ensemble import RandomForestRegressor\n",
    "# Instantiate model with 1000 decision trees\n",
    "rf = RandomForestRegressor(n_estimators = 1000, random_state = 42)\n",
    "# Train the model on training data\n",
    "rf.fit(x_train, y_train)"
   ]
  },
  {
   "cell_type": "code",
   "execution_count": 75,
   "metadata": {},
   "outputs": [
    {
     "name": "stderr",
     "output_type": "stream",
     "text": [
      "/usr/local/lib/python3.7/dist-packages/sklearn/base.py:420: FutureWarning: The default value of multioutput (not exposed in score method) will change from 'variance_weighted' to 'uniform_average' in 0.23 to keep consistent with 'metrics.r2_score'. To specify the default value manually and avoid the warning, please either call 'metrics.r2_score' directly or make a custom scorer with 'metrics.make_scorer' (the built-in scorer 'r2' uses multioutput='uniform_average').\n",
      "  \"multioutput='uniform_average').\", FutureWarning)\n"
     ]
    },
    {
     "data": {
      "text/plain": [
       "0.4053359315636961"
      ]
     },
     "execution_count": 75,
     "metadata": {},
     "output_type": "execute_result"
    }
   ],
   "source": [
    "rf.score(x_test, y_test)"
   ]
  },
  {
   "cell_type": "code",
   "execution_count": null,
   "metadata": {},
   "outputs": [],
   "source": [
    "from sklearn.ensemble import RandomForestRegressor\n",
    "# Instantiate model with 1000 decision trees\n",
    "rf1 = RandomForestRegressor(n_estimators = 100, random_state = 42)\n",
    "# Train the model on training data\n",
    "rf1.fit(x_train, y_train)"
   ]
  },
  {
   "cell_type": "code",
   "execution_count": null,
   "metadata": {},
   "outputs": [],
   "source": [
    "rf1.score(x_test, y_test)"
   ]
  },
  {
   "cell_type": "code",
   "execution_count": 2,
   "metadata": {},
   "outputs": [],
   "source": [
    "from pyspark import SparkContext\n",
    "import os \n",
    "\n",
    "# this should be JAVA_HOME path\n",
    "os.environ['JAVA_HOME']=\"/Library/Java/JavaVirtualMachines/jdk1.8.0_202.jdk/Contents/Home/\"\n",
    "\n",
    "os.environ['PYSPARK_SUBMIT_ARGS'] = \"--master local[2] pyspark-shell\"\n",
    "\n",
    "sc = SparkContext.getOrCreate()"
   ]
  },
  {
   "cell_type": "code",
   "execution_count": 13,
   "metadata": {},
   "outputs": [],
   "source": [
    "from pyspark.sql import SparkSession\n",
    "spark = SparkSession.builder.appName(\"test\").getOrCreate()"
   ]
  },
  {
   "cell_type": "code",
   "execution_count": 16,
   "metadata": {},
   "outputs": [],
   "source": [
    "xtemp = x_test.values.tolist()"
   ]
  },
  {
   "cell_type": "code",
   "execution_count": 32,
   "metadata": {},
   "outputs": [],
   "source": [
    "temp = pd.DataFrame()"
   ]
  },
  {
   "cell_type": "code",
   "execution_count": 29,
   "metadata": {
    "collapsed": true
   },
   "outputs": [
    {
     "ename": "TypeError",
     "evalue": "createDataFrame() missing 1 required positional argument: 'data'",
     "output_type": "error",
     "traceback": [
      "\u001b[0;31m---------------------------------------------------------------------------\u001b[0m",
      "\u001b[0;31mTypeError\u001b[0m                                 Traceback (most recent call last)",
      "\u001b[0;32m<ipython-input-29-447ac6948cad>\u001b[0m in \u001b[0;36m<module>\u001b[0;34m\u001b[0m\n\u001b[0;32m----> 1\u001b[0;31m \u001b[0mdf\u001b[0m \u001b[0;34m=\u001b[0m \u001b[0mspark\u001b[0m\u001b[0;34m.\u001b[0m\u001b[0mcreateDataFrame\u001b[0m\u001b[0;34m(\u001b[0m\u001b[0;34m)\u001b[0m\u001b[0;34m\u001b[0m\u001b[0;34m\u001b[0m\u001b[0m\n\u001b[0m",
      "\u001b[0;31mTypeError\u001b[0m: createDataFrame() missing 1 required positional argument: 'data'"
     ]
    }
   ],
   "source": [
    "df = spark.createDataFrame()"
   ]
  },
  {
   "cell_type": "code",
   "execution_count": 1,
   "metadata": {
    "collapsed": true
   },
   "outputs": [
    {
     "ename": "AttributeError",
     "evalue": "Cannot load _jvm from SparkContext. Is SparkContext initialized?",
     "output_type": "error",
     "traceback": [
      "\u001b[0;31m---------------------------------------------------------------------------\u001b[0m",
      "\u001b[0;31mAttributeError\u001b[0m                            Traceback (most recent call last)",
      "\u001b[0;32m<ipython-input-1-c663ac229c90>\u001b[0m in \u001b[0;36m<module>\u001b[0;34m\u001b[0m\n\u001b[1;32m      1\u001b[0m \u001b[0;32mfrom\u001b[0m \u001b[0mpyspark\u001b[0m\u001b[0;34m.\u001b[0m\u001b[0mml\u001b[0m\u001b[0;34m.\u001b[0m\u001b[0mclassification\u001b[0m \u001b[0;32mimport\u001b[0m \u001b[0mRandomForestClassifier\u001b[0m\u001b[0;34m\u001b[0m\u001b[0;34m\u001b[0m\u001b[0m\n\u001b[0;32m----> 2\u001b[0;31m \u001b[0mrf\u001b[0m \u001b[0;34m=\u001b[0m \u001b[0mRandomForestClassifier\u001b[0m\u001b[0;34m(\u001b[0m\u001b[0mfeaturesCol\u001b[0m \u001b[0;34m=\u001b[0m \u001b[0;34m'result'\u001b[0m\u001b[0;34m,\u001b[0m \u001b[0mlabelCol\u001b[0m \u001b[0;34m=\u001b[0m \u001b[0;34m'categorylabel'\u001b[0m\u001b[0;34m)\u001b[0m\u001b[0;34m\u001b[0m\u001b[0;34m\u001b[0m\u001b[0m\n\u001b[0m\u001b[1;32m      3\u001b[0m \u001b[0mrfModel\u001b[0m \u001b[0;34m=\u001b[0m \u001b[0mrf\u001b[0m\u001b[0;34m.\u001b[0m\u001b[0mfit\u001b[0m\u001b[0;34m(\u001b[0m\u001b[0mtrain\u001b[0m\u001b[0;34m)\u001b[0m\u001b[0;34m\u001b[0m\u001b[0;34m\u001b[0m\u001b[0m\n\u001b[1;32m      4\u001b[0m \u001b[0mpredictions\u001b[0m \u001b[0;34m=\u001b[0m \u001b[0mrfModel\u001b[0m\u001b[0;34m.\u001b[0m\u001b[0mtransform\u001b[0m\u001b[0;34m(\u001b[0m\u001b[0mtest\u001b[0m\u001b[0;34m)\u001b[0m\u001b[0;34m\u001b[0m\u001b[0;34m\u001b[0m\u001b[0m\n\u001b[1;32m      5\u001b[0m \u001b[0mpredictions\u001b[0m\u001b[0;34m.\u001b[0m\u001b[0mselect\u001b[0m\u001b[0;34m(\u001b[0m\u001b[0;34m'label'\u001b[0m\u001b[0;34m,\u001b[0m \u001b[0;34m'prediction'\u001b[0m\u001b[0;34m,\u001b[0m \u001b[0;34m'probability'\u001b[0m\u001b[0;34m)\u001b[0m\u001b[0;34m.\u001b[0m\u001b[0mshow\u001b[0m\u001b[0;34m(\u001b[0m\u001b[0;36m10\u001b[0m\u001b[0;34m)\u001b[0m\u001b[0;34m\u001b[0m\u001b[0;34m\u001b[0m\u001b[0m\n",
      "\u001b[0;32m~/anaconda3/lib/python3.7/site-packages/pyspark/__init__.py\u001b[0m in \u001b[0;36mwrapper\u001b[0;34m(self, *args, **kwargs)\u001b[0m\n\u001b[1;32m    108\u001b[0m             \u001b[0;32mraise\u001b[0m \u001b[0mTypeError\u001b[0m\u001b[0;34m(\u001b[0m\u001b[0;34m\"Method %s forces keyword arguments.\"\u001b[0m \u001b[0;34m%\u001b[0m \u001b[0mfunc\u001b[0m\u001b[0;34m.\u001b[0m\u001b[0m__name__\u001b[0m\u001b[0;34m)\u001b[0m\u001b[0;34m\u001b[0m\u001b[0;34m\u001b[0m\u001b[0m\n\u001b[1;32m    109\u001b[0m         \u001b[0mself\u001b[0m\u001b[0;34m.\u001b[0m\u001b[0m_input_kwargs\u001b[0m \u001b[0;34m=\u001b[0m \u001b[0mkwargs\u001b[0m\u001b[0;34m\u001b[0m\u001b[0;34m\u001b[0m\u001b[0m\n\u001b[0;32m--> 110\u001b[0;31m         \u001b[0;32mreturn\u001b[0m \u001b[0mfunc\u001b[0m\u001b[0;34m(\u001b[0m\u001b[0mself\u001b[0m\u001b[0;34m,\u001b[0m \u001b[0;34m**\u001b[0m\u001b[0mkwargs\u001b[0m\u001b[0;34m)\u001b[0m\u001b[0;34m\u001b[0m\u001b[0;34m\u001b[0m\u001b[0m\n\u001b[0m\u001b[1;32m    111\u001b[0m     \u001b[0;32mreturn\u001b[0m \u001b[0mwrapper\u001b[0m\u001b[0;34m\u001b[0m\u001b[0;34m\u001b[0m\u001b[0m\n\u001b[1;32m    112\u001b[0m \u001b[0;34m\u001b[0m\u001b[0m\n",
      "\u001b[0;32m~/anaconda3/lib/python3.7/site-packages/pyspark/ml/classification.py\u001b[0m in \u001b[0;36m__init__\u001b[0;34m(self, featuresCol, labelCol, predictionCol, probabilityCol, rawPredictionCol, maxDepth, maxBins, minInstancesPerNode, minInfoGain, maxMemoryInMB, cacheNodeIds, checkpointInterval, impurity, numTrees, featureSubsetStrategy, seed, subsamplingRate)\u001b[0m\n\u001b[1;32m   1108\u001b[0m         \u001b[0msuper\u001b[0m\u001b[0;34m(\u001b[0m\u001b[0mRandomForestClassifier\u001b[0m\u001b[0;34m,\u001b[0m \u001b[0mself\u001b[0m\u001b[0;34m)\u001b[0m\u001b[0;34m.\u001b[0m\u001b[0m__init__\u001b[0m\u001b[0;34m(\u001b[0m\u001b[0;34m)\u001b[0m\u001b[0;34m\u001b[0m\u001b[0;34m\u001b[0m\u001b[0m\n\u001b[1;32m   1109\u001b[0m         self._java_obj = self._new_java_obj(\n\u001b[0;32m-> 1110\u001b[0;31m             \"org.apache.spark.ml.classification.RandomForestClassifier\", self.uid)\n\u001b[0m\u001b[1;32m   1111\u001b[0m         self._setDefault(maxDepth=5, maxBins=32, minInstancesPerNode=1, minInfoGain=0.0,\n\u001b[1;32m   1112\u001b[0m                          \u001b[0mmaxMemoryInMB\u001b[0m\u001b[0;34m=\u001b[0m\u001b[0;36m256\u001b[0m\u001b[0;34m,\u001b[0m \u001b[0mcacheNodeIds\u001b[0m\u001b[0;34m=\u001b[0m\u001b[0;32mFalse\u001b[0m\u001b[0;34m,\u001b[0m \u001b[0mcheckpointInterval\u001b[0m\u001b[0;34m=\u001b[0m\u001b[0;36m10\u001b[0m\u001b[0;34m,\u001b[0m\u001b[0;34m\u001b[0m\u001b[0;34m\u001b[0m\u001b[0m\n",
      "\u001b[0;32m~/anaconda3/lib/python3.7/site-packages/pyspark/ml/wrapper.py\u001b[0m in \u001b[0;36m_new_java_obj\u001b[0;34m(java_class, *args)\u001b[0m\n\u001b[1;32m     61\u001b[0m         \"\"\"\n\u001b[1;32m     62\u001b[0m         \u001b[0msc\u001b[0m \u001b[0;34m=\u001b[0m \u001b[0mSparkContext\u001b[0m\u001b[0;34m.\u001b[0m\u001b[0m_active_spark_context\u001b[0m\u001b[0;34m\u001b[0m\u001b[0;34m\u001b[0m\u001b[0m\n\u001b[0;32m---> 63\u001b[0;31m         \u001b[0mjava_obj\u001b[0m \u001b[0;34m=\u001b[0m \u001b[0m_jvm\u001b[0m\u001b[0;34m(\u001b[0m\u001b[0;34m)\u001b[0m\u001b[0;34m\u001b[0m\u001b[0;34m\u001b[0m\u001b[0m\n\u001b[0m\u001b[1;32m     64\u001b[0m         \u001b[0;32mfor\u001b[0m \u001b[0mname\u001b[0m \u001b[0;32min\u001b[0m \u001b[0mjava_class\u001b[0m\u001b[0;34m.\u001b[0m\u001b[0msplit\u001b[0m\u001b[0;34m(\u001b[0m\u001b[0;34m\".\"\u001b[0m\u001b[0;34m)\u001b[0m\u001b[0;34m:\u001b[0m\u001b[0;34m\u001b[0m\u001b[0;34m\u001b[0m\u001b[0m\n\u001b[1;32m     65\u001b[0m             \u001b[0mjava_obj\u001b[0m \u001b[0;34m=\u001b[0m \u001b[0mgetattr\u001b[0m\u001b[0;34m(\u001b[0m\u001b[0mjava_obj\u001b[0m\u001b[0;34m,\u001b[0m \u001b[0mname\u001b[0m\u001b[0;34m)\u001b[0m\u001b[0;34m\u001b[0m\u001b[0;34m\u001b[0m\u001b[0m\n",
      "\u001b[0;32m~/anaconda3/lib/python3.7/site-packages/pyspark/ml/util.py\u001b[0m in \u001b[0;36m_jvm\u001b[0;34m()\u001b[0m\n\u001b[1;32m     43\u001b[0m         \u001b[0;32mreturn\u001b[0m \u001b[0mjvm\u001b[0m\u001b[0;34m\u001b[0m\u001b[0;34m\u001b[0m\u001b[0m\n\u001b[1;32m     44\u001b[0m     \u001b[0;32melse\u001b[0m\u001b[0;34m:\u001b[0m\u001b[0;34m\u001b[0m\u001b[0;34m\u001b[0m\u001b[0m\n\u001b[0;32m---> 45\u001b[0;31m         \u001b[0;32mraise\u001b[0m \u001b[0mAttributeError\u001b[0m\u001b[0;34m(\u001b[0m\u001b[0;34m\"Cannot load _jvm from SparkContext. Is SparkContext initialized?\"\u001b[0m\u001b[0;34m)\u001b[0m\u001b[0;34m\u001b[0m\u001b[0;34m\u001b[0m\u001b[0m\n\u001b[0m\u001b[1;32m     46\u001b[0m \u001b[0;34m\u001b[0m\u001b[0m\n\u001b[1;32m     47\u001b[0m \u001b[0;34m\u001b[0m\u001b[0m\n",
      "\u001b[0;31mAttributeError\u001b[0m: Cannot load _jvm from SparkContext. Is SparkContext initialized?"
     ]
    }
   ],
   "source": [
    "from pyspark.ml.classification import RandomForestClassifier\n",
    "rf = RandomForestClassifier(featuresCol = 'result', labelCol = 'categorylabel')\n",
    "rfModel = rf.fit(train)\n",
    "predictions = rfModel.transform(test)\n",
    "predictions.select('label', 'prediction', 'probability').show(10)"
   ]
  },
  {
   "cell_type": "code",
   "execution_count": null,
   "metadata": {},
   "outputs": [],
   "source": [
    "from pyspark.ml.classification import LogisticRegression\n",
    "train, test = indexed.randomSplit([0.8, 0.2], seed = 7*4*25)\n"
   ]
  },
  {
   "cell_type": "markdown",
   "metadata": {},
   "source": [
    "# Try Convolutional Neural Network"
   ]
  },
  {
   "cell_type": "code",
   "execution_count": 11,
   "metadata": {},
   "outputs": [],
   "source": [
    "from keras.layers import RepeatVector, Permute, Lambda, ActivityRegularization, AveragePooling1D\n",
    "from keras.optimizers import Nadam, Adagrad\n",
    "import math"
   ]
  },
  {
   "cell_type": "code",
   "execution_count": 12,
   "metadata": {},
   "outputs": [],
   "source": [
    "n_timesteps, n_features, n_outputs = x_train.shape[0], x_train.shape[1], y_train.shape[0]"
   ]
  },
  {
   "cell_type": "code",
   "execution_count": 13,
   "metadata": {},
   "outputs": [
    {
     "data": {
      "text/plain": [
       "(17201, 128, 17201)"
      ]
     },
     "execution_count": 13,
     "metadata": {},
     "output_type": "execute_result"
    }
   ],
   "source": [
    "n_timesteps, n_features, n_outputs"
   ]
  },
  {
   "cell_type": "code",
   "execution_count": 14,
   "metadata": {},
   "outputs": [
    {
     "data": {
      "text/plain": [
       "(17201, 128)"
      ]
     },
     "execution_count": 14,
     "metadata": {},
     "output_type": "execute_result"
    }
   ],
   "source": [
    "x_train.shape"
   ]
  },
  {
   "cell_type": "markdown",
   "metadata": {},
   "source": [
    "### The functions below can be used as Neural Network layers if we want."
   ]
  },
  {
   "cell_type": "code",
   "execution_count": 15,
   "metadata": {},
   "outputs": [],
   "source": [
    "#What is K?\n",
    "\n",
    "def antirectifier(x):\n",
    "    x -= K.mean(x, axis=1, keepdims=True)\n",
    "    x = K.l2_normalize(x, axis=1)\n",
    "    pos = K.relu(x)\n",
    "    neg = K.relu(-x)\n",
    "    return K.concatenate([pos, neg], axis=1)\n",
    "\n",
    "def antirectifier_output_shape(input_shape):\n",
    "    shape = list(input_shape)\n",
    "    assert len(shape) == 2  # only valid for 2D tensors\n",
    "    shape[-1] *= 2\n",
    "    return tuple(shape)\n",
    "\n",
    "#conv_model.add(Lambda(antirectifier,output_shape=antirectifier_output_shape))\n",
    "\n",
    "\n",
    "def hadamard_product_sum(tensors):\n",
    "    out1 = tensors[0] * tensors[1]\n",
    "    out2 = K.sum(out1, axis=-1)\n",
    "    return [out1, out2]\n",
    "\n",
    "def hadamard_product_sum_output_shape(input_shapes):\n",
    "    shape1 = list(input_shapes[0])\n",
    "    shape2 = list(input_shapes[1])\n",
    "    assert shape1 == shape2  # else hadamard product isn't possible\n",
    "    return [tuple(shape1), tuple(shape2[:-1])]\n",
    "\n",
    "#conv_model(Lambda(hadamard_product_sum, hadamard_product_sum_output_shape))"
   ]
  },
  {
   "cell_type": "code",
   "execution_count": 21,
   "metadata": {},
   "outputs": [
    {
     "data": {
      "text/plain": [
       "128"
      ]
     },
     "execution_count": 21,
     "metadata": {},
     "output_type": "execute_result"
    }
   ],
   "source": [
    "x_train.shape[1]"
   ]
  },
  {
   "cell_type": "markdown",
   "metadata": {},
   "source": [
    "Because our input is not the right dimension to go straight into a neural network, it makes sense to start with a dense layer that our data can be inputted into with ease. In order to get the data into the right dimensions the RepeatVector function is used. Reshape would have been ideal but the NN did not like this and would always error. Using Repeat Vector may not keep the proper structure we want.\n",
    "A 1D convolutional layer is added. This moves along one axis as it convolutes. Strides is how far it moves each time and to just move one step yielded the best results. Sigmoid worked best as an activation because it is a logistic function so works well for our binary data. I have then used the dropout function to lower our chance of overfitting. It sets, at rate 0.5, input units to 0 at each update during training time. Then we pool using padding as 'same' so everything is padded to the same length here. Then flattening it back to 2 dimensions.\n",
    "Adding in squaring everything helped for predictions as values close to 1 got closer and those close to 0 got closer. Then from tutorials it always seemed a good idea to finish with dense."
   ]
  },
  {
   "cell_type": "code",
   "execution_count": 16,
   "metadata": {},
   "outputs": [
    {
     "name": "stdout",
     "output_type": "stream",
     "text": [
      "WARNING:tensorflow:From /usr/local/lib/python3.6/dist-packages/tensorflow/python/framework/op_def_library.py:263: colocate_with (from tensorflow.python.framework.ops) is deprecated and will be removed in a future version.\n",
      "Instructions for updating:\n",
      "Colocations handled automatically by placer.\n",
      "WARNING:tensorflow:From /usr/local/lib/python3.6/dist-packages/keras/backend/tensorflow_backend.py:3445: calling dropout (from tensorflow.python.ops.nn_ops) with keep_prob is deprecated and will be removed in a future version.\n",
      "Instructions for updating:\n",
      "Please use `rate` instead of `keep_prob`. Rate should be set to `rate = 1 - keep_prob`.\n"
     ]
    }
   ],
   "source": [
    "conv_model = Sequential()\n",
    "\n",
    "conv_model.add(Dense(128, input_dim=x_train.shape[1], activation='sigmoid'))\n",
    "conv_model.add(RepeatVector(3))\n",
    "\n",
    "\n",
    "# conv_model.add(Lambda(lambda x: x ** 3))\n",
    "\n",
    "# conv_model.add(Permute(2,1))\n",
    "\n",
    "conv_model.add(Conv1D(filters = 64, kernel_size = 3, strides = 1, activation ='sigmoid'))\n",
    "conv_model.add(Dropout(0.5))\n",
    "conv_model.add(MaxPooling1D(pool_size = 2, padding = 'same'))\n",
    "# conv_model.add(Conv1D(filters = 64, kernel_size = 3, activation ='linear'))\n",
    "# conv_model.add(LeakyReLU(alpha=0.1))\n",
    "# conv_model.add(MaxPooling1D(pool_size = 2, padding = 'same'))\n",
    "conv_model.add(Flatten())\n",
    "\n",
    "conv_model.add(Lambda(lambda x: x**2))\n",
    "\n",
    "conv_model.add(Dense(128, activation='sigmoid'))\n",
    "# conv_model.add(LeakyReLU(alpha=0.1))\n",
    "conv_model.add(Dropout(0.05))\n",
    "\n",
    "conv_model.add(Dense(units=1, activation='sigmoid'))"
   ]
  },
  {
   "cell_type": "code",
   "execution_count": 17,
   "metadata": {},
   "outputs": [
    {
     "name": "stdout",
     "output_type": "stream",
     "text": [
      "_________________________________________________________________\n",
      "Layer (type)                 Output Shape              Param #   \n",
      "=================================================================\n",
      "dense_1 (Dense)              (None, 128)               16512     \n",
      "_________________________________________________________________\n",
      "repeat_vector_1 (RepeatVecto (None, 3, 128)            0         \n",
      "_________________________________________________________________\n",
      "conv1d_1 (Conv1D)            (None, 1, 64)             24640     \n",
      "_________________________________________________________________\n",
      "dropout_1 (Dropout)          (None, 1, 64)             0         \n",
      "_________________________________________________________________\n",
      "max_pooling1d_1 (MaxPooling1 (None, 1, 64)             0         \n",
      "_________________________________________________________________\n",
      "flatten_1 (Flatten)          (None, 64)                0         \n",
      "_________________________________________________________________\n",
      "lambda_1 (Lambda)            (None, 64)                0         \n",
      "_________________________________________________________________\n",
      "dense_2 (Dense)              (None, 128)               8320      \n",
      "_________________________________________________________________\n",
      "dropout_2 (Dropout)          (None, 128)               0         \n",
      "_________________________________________________________________\n",
      "dense_3 (Dense)              (None, 1)                 129       \n",
      "=================================================================\n",
      "Total params: 49,601\n",
      "Trainable params: 49,601\n",
      "Non-trainable params: 0\n",
      "_________________________________________________________________\n"
     ]
    }
   ],
   "source": [
    "conv_model.summary()"
   ]
  },
  {
   "cell_type": "code",
   "execution_count": 18,
   "metadata": {},
   "outputs": [
    {
     "name": "stdout",
     "output_type": "stream",
     "text": [
      "WARNING:tensorflow:From /usr/local/lib/python3.6/dist-packages/tensorflow/python/ops/math_ops.py:3066: to_int32 (from tensorflow.python.ops.math_ops) is deprecated and will be removed in a future version.\n",
      "Instructions for updating:\n",
      "Use tf.cast instead.\n",
      "Epoch 1/50\n",
      "17201/17201 [==============================] - 3s 155us/step - loss: 0.6925 - acc: 0.5224\n",
      "Epoch 2/50\n",
      "17201/17201 [==============================] - 2s 92us/step - loss: 0.6319 - acc: 0.6404: 4s - \n",
      "Epoch 3/50\n",
      "17201/17201 [==============================] - 2s 98us/step - loss: 0.5416 - acc: 0.7233\n",
      "Epoch 4/50\n",
      "17201/17201 [==============================] - 2s 112us/step - loss: 0.4763 - acc: 0.7651\n",
      "Epoch 5/50\n",
      "17201/17201 [==============================] - 2s 135us/step - loss: 0.4010 - acc: 0.8084\n",
      "Epoch 6/50\n",
      "17201/17201 [==============================] - 2s 120us/step - loss: 0.3260 - acc: 0.8466\n",
      "Epoch 7/50\n",
      "17201/17201 [==============================] - 2s 108us/step - loss: 0.2585 - acc: 0.8805\n",
      "Epoch 8/50\n",
      "17201/17201 [==============================] - 1s 79us/step - loss: 0.2217 - acc: 0.8969\n",
      "Epoch 9/50\n",
      "17201/17201 [==============================] - 1s 87us/step - loss: 0.1956 - acc: 0.9090\n",
      "Epoch 10/50\n",
      "17201/17201 [==============================] - 1s 76us/step - loss: 0.1757 - acc: 0.9157\n",
      "Epoch 11/50\n",
      "17201/17201 [==============================] - 1s 80us/step - loss: 0.1619 - acc: 0.9254\n",
      "Epoch 12/50\n",
      "17201/17201 [==============================] - 1s 84us/step - loss: 0.1516 - acc: 0.9252\n",
      "Epoch 13/50\n",
      "17201/17201 [==============================] - 3s 146us/step - loss: 0.1449 - acc: 0.9302\n",
      "Epoch 14/50\n",
      "17201/17201 [==============================] - 2s 95us/step - loss: 0.1442 - acc: 0.9306\n",
      "Epoch 15/50\n",
      "17201/17201 [==============================] - 2s 142us/step - loss: 0.1384 - acc: 0.9327\n",
      "Epoch 16/50\n",
      "17201/17201 [==============================] - 2s 104us/step - loss: 0.1374 - acc: 0.9359\n",
      "Epoch 17/50\n",
      "17201/17201 [==============================] - 2s 104us/step - loss: 0.1304 - acc: 0.9376\n",
      "Epoch 18/50\n",
      "17201/17201 [==============================] - 2s 92us/step - loss: 0.1301 - acc: 0.9366\n",
      "Epoch 19/50\n",
      "17201/17201 [==============================] - 1s 64us/step - loss: 0.1243 - acc: 0.9390\n",
      "Epoch 20/50\n",
      "17201/17201 [==============================] - 2s 97us/step - loss: 0.1220 - acc: 0.9397\n",
      "Epoch 21/50\n",
      "17201/17201 [==============================] - 1s 82us/step - loss: 0.1183 - acc: 0.9424\n",
      "Epoch 22/50\n",
      "17201/17201 [==============================] - 1s 66us/step - loss: 0.1154 - acc: 0.9429\n",
      "Epoch 23/50\n",
      "17201/17201 [==============================] - 1s 79us/step - loss: 0.1154 - acc: 0.9410\n",
      "Epoch 24/50\n",
      "17201/17201 [==============================] - 2s 106us/step - loss: 0.1132 - acc: 0.9426\n",
      "Epoch 25/50\n",
      "17201/17201 [==============================] - 2s 117us/step - loss: 0.1153 - acc: 0.9433\n",
      "Epoch 26/50\n",
      "17201/17201 [==============================] - 2s 98us/step - loss: 0.1090 - acc: 0.9445\n",
      "Epoch 27/50\n",
      "17201/17201 [==============================] - 1s 78us/step - loss: 0.1088 - acc: 0.9446\n",
      "Epoch 28/50\n",
      "17201/17201 [==============================] - 2s 118us/step - loss: 0.1105 - acc: 0.9439\n",
      "Epoch 29/50\n",
      "17201/17201 [==============================] - 3s 178us/step - loss: 0.1087 - acc: 0.9446\n",
      "Epoch 30/50\n",
      "17201/17201 [==============================] - 3s 176us/step - loss: 0.1031 - acc: 0.9469\n",
      "Epoch 31/50\n",
      "17201/17201 [==============================] - 1s 84us/step - loss: 0.1052 - acc: 0.9467\n",
      "Epoch 32/50\n",
      "17201/17201 [==============================] - 2s 124us/step - loss: 0.1026 - acc: 0.9472\n",
      "Epoch 33/50\n",
      "17201/17201 [==============================] - 2s 97us/step - loss: 0.1022 - acc: 0.9462\n",
      "Epoch 34/50\n",
      "17201/17201 [==============================] - 2s 135us/step - loss: 0.1025 - acc: 0.9487\n",
      "Epoch 35/50\n",
      "17201/17201 [==============================] - 2s 91us/step - loss: 0.0985 - acc: 0.9479\n",
      "Epoch 36/50\n",
      "17201/17201 [==============================] - 1s 81us/step - loss: 0.1005 - acc: 0.9494\n",
      "Epoch 37/50\n",
      "17201/17201 [==============================] - 1s 80us/step - loss: 0.1018 - acc: 0.9485\n",
      "Epoch 38/50\n",
      "17201/17201 [==============================] - 2s 125us/step - loss: 0.0980 - acc: 0.9494\n",
      "Epoch 39/50\n",
      "17201/17201 [==============================] - 1s 84us/step - loss: 0.0959 - acc: 0.9488\n",
      "Epoch 40/50\n",
      "17201/17201 [==============================] - 1s 70us/step - loss: 0.1006 - acc: 0.9484\n",
      "Epoch 41/50\n",
      "17201/17201 [==============================] - 1s 78us/step - loss: 0.0951 - acc: 0.9526\n",
      "Epoch 42/50\n",
      "17201/17201 [==============================] - 2s 105us/step - loss: 0.0944 - acc: 0.9514\n",
      "Epoch 43/50\n",
      "17201/17201 [==============================] - 2s 90us/step - loss: 0.0930 - acc: 0.9511\n",
      "Epoch 44/50\n",
      "17201/17201 [==============================] - 1s 75us/step - loss: 0.0951 - acc: 0.9497\n",
      "Epoch 45/50\n",
      "17201/17201 [==============================] - 2s 88us/step - loss: 0.0953 - acc: 0.9493\n",
      "Epoch 46/50\n",
      "17201/17201 [==============================] - 3s 149us/step - loss: 0.0930 - acc: 0.9518\n",
      "Epoch 47/50\n",
      "17201/17201 [==============================] - 3s 177us/step - loss: 0.0950 - acc: 0.9491\n",
      "Epoch 48/50\n",
      "17201/17201 [==============================] - 2s 137us/step - loss: 0.0944 - acc: 0.9501\n",
      "Epoch 49/50\n",
      "17201/17201 [==============================] - 2s 143us/step - loss: 0.0923 - acc: 0.9524\n",
      "Epoch 50/50\n",
      "17201/17201 [==============================] - 2s 137us/step - loss: 0.0922 - acc: 0.9501\n"
     ]
    },
    {
     "data": {
      "text/plain": [
       "<keras.callbacks.History at 0x7f8a52dd0ac8>"
      ]
     },
     "execution_count": 18,
     "metadata": {},
     "output_type": "execute_result"
    }
   ],
   "source": [
    "conv_model.compile(optimizer=Adam(), loss='binary_crossentropy', metrics=['accuracy'])\n",
    "# model.compile(optimizer=Adadelta(), loss='binary_crossentropy', metrics=['accuracy'])\n",
    "conv_model.fit(x_train, y_train, epochs=50, batch_size=64)"
   ]
  },
  {
   "cell_type": "code",
   "execution_count": 19,
   "metadata": {},
   "outputs": [
    {
     "name": "stdout",
     "output_type": "stream",
     "text": [
      "4301/4301 [==============================] - 0s 97us/step\n"
     ]
    },
    {
     "data": {
      "text/plain": [
       "[0.10377816064424, 0.9479190885840503]"
      ]
     },
     "execution_count": 19,
     "metadata": {},
     "output_type": "execute_result"
    }
   ],
   "source": [
    "conv_model.evaluate(x_test,y_test)"
   ]
  },
  {
   "cell_type": "code",
   "execution_count": 20,
   "metadata": {},
   "outputs": [],
   "source": [
    "import pickle\n",
    "\n",
    "with open('../data/binary-convolutional','wb') as f:\n",
    "    pickle.dump(conv_model,f)"
   ]
  },
  {
   "cell_type": "markdown",
   "metadata": {},
   "source": [
    "# Try Different 2D Network"
   ]
  },
  {
   "cell_type": "code",
   "execution_count": 34,
   "metadata": {},
   "outputs": [
    {
     "ename": "ValueError",
     "evalue": "Input 0 is incompatible with layer permute_1: expected ndim=3, found ndim=2",
     "output_type": "error",
     "traceback": [
      "\u001b[0;31m---------------------------------------------------------------------------\u001b[0m",
      "\u001b[0;31mValueError\u001b[0m                                Traceback (most recent call last)",
      "\u001b[0;32m<ipython-input-34-0f56abc5467b>\u001b[0m in \u001b[0;36m<module>\u001b[0;34m\u001b[0m\n\u001b[1;32m      1\u001b[0m \u001b[0mmodel_2d\u001b[0m \u001b[0;34m=\u001b[0m \u001b[0mSequential\u001b[0m\u001b[0;34m(\u001b[0m\u001b[0;34m)\u001b[0m\u001b[0;34m\u001b[0m\u001b[0;34m\u001b[0m\u001b[0m\n\u001b[1;32m      2\u001b[0m \u001b[0mmodel_2d\u001b[0m\u001b[0;34m.\u001b[0m\u001b[0madd\u001b[0m\u001b[0;34m(\u001b[0m\u001b[0mDense\u001b[0m\u001b[0;34m(\u001b[0m\u001b[0;36m128\u001b[0m\u001b[0;34m,\u001b[0m \u001b[0minput_dim\u001b[0m\u001b[0;34m=\u001b[0m\u001b[0mx_train\u001b[0m\u001b[0;34m.\u001b[0m\u001b[0mshape\u001b[0m\u001b[0;34m[\u001b[0m\u001b[0;36m1\u001b[0m\u001b[0;34m]\u001b[0m\u001b[0;34m,\u001b[0m \u001b[0mactivation\u001b[0m\u001b[0;34m=\u001b[0m\u001b[0;34m'sigmoid'\u001b[0m\u001b[0;34m)\u001b[0m\u001b[0;34m)\u001b[0m\u001b[0;34m\u001b[0m\u001b[0;34m\u001b[0m\u001b[0m\n\u001b[0;32m----> 3\u001b[0;31m \u001b[0mmodel_2d\u001b[0m\u001b[0;34m.\u001b[0m\u001b[0madd\u001b[0m\u001b[0;34m(\u001b[0m\u001b[0mPermute\u001b[0m\u001b[0;34m(\u001b[0m\u001b[0;34m(\u001b[0m\u001b[0;36m2\u001b[0m\u001b[0;34m,\u001b[0m\u001b[0;36m1\u001b[0m\u001b[0;34m)\u001b[0m\u001b[0;34m)\u001b[0m\u001b[0;34m)\u001b[0m\u001b[0;34m\u001b[0m\u001b[0;34m\u001b[0m\u001b[0m\n\u001b[0m\u001b[1;32m      4\u001b[0m \u001b[0;31m#model_2d.add(Dropout(rate = 0.05))\u001b[0m\u001b[0;34m\u001b[0m\u001b[0;34m\u001b[0m\u001b[0;34m\u001b[0m\u001b[0m\n\u001b[1;32m      5\u001b[0m \u001b[0mmodel_2d\u001b[0m\u001b[0;34m.\u001b[0m\u001b[0madd\u001b[0m\u001b[0;34m(\u001b[0m\u001b[0mDense\u001b[0m\u001b[0;34m(\u001b[0m\u001b[0munits\u001b[0m\u001b[0;34m=\u001b[0m\u001b[0;36m1\u001b[0m\u001b[0;34m,\u001b[0m \u001b[0mactivation\u001b[0m\u001b[0;34m=\u001b[0m\u001b[0;34m'sigmoid'\u001b[0m\u001b[0;34m)\u001b[0m\u001b[0;34m)\u001b[0m\u001b[0;34m\u001b[0m\u001b[0;34m\u001b[0m\u001b[0m\n",
      "\u001b[0;32m/usr/local/lib/python3.7/dist-packages/keras/engine/sequential.py\u001b[0m in \u001b[0;36madd\u001b[0;34m(self, layer)\u001b[0m\n\u001b[1;32m    179\u001b[0m                 \u001b[0mself\u001b[0m\u001b[0;34m.\u001b[0m\u001b[0minputs\u001b[0m \u001b[0;34m=\u001b[0m \u001b[0mnetwork\u001b[0m\u001b[0;34m.\u001b[0m\u001b[0mget_source_inputs\u001b[0m\u001b[0;34m(\u001b[0m\u001b[0mself\u001b[0m\u001b[0;34m.\u001b[0m\u001b[0moutputs\u001b[0m\u001b[0;34m[\u001b[0m\u001b[0;36m0\u001b[0m\u001b[0;34m]\u001b[0m\u001b[0;34m)\u001b[0m\u001b[0;34m\u001b[0m\u001b[0;34m\u001b[0m\u001b[0m\n\u001b[1;32m    180\u001b[0m         \u001b[0;32melif\u001b[0m \u001b[0mself\u001b[0m\u001b[0;34m.\u001b[0m\u001b[0moutputs\u001b[0m\u001b[0;34m:\u001b[0m\u001b[0;34m\u001b[0m\u001b[0;34m\u001b[0m\u001b[0m\n\u001b[0;32m--> 181\u001b[0;31m             \u001b[0moutput_tensor\u001b[0m \u001b[0;34m=\u001b[0m \u001b[0mlayer\u001b[0m\u001b[0;34m(\u001b[0m\u001b[0mself\u001b[0m\u001b[0;34m.\u001b[0m\u001b[0moutputs\u001b[0m\u001b[0;34m[\u001b[0m\u001b[0;36m0\u001b[0m\u001b[0;34m]\u001b[0m\u001b[0;34m)\u001b[0m\u001b[0;34m\u001b[0m\u001b[0;34m\u001b[0m\u001b[0m\n\u001b[0m\u001b[1;32m    182\u001b[0m             \u001b[0;32mif\u001b[0m \u001b[0misinstance\u001b[0m\u001b[0;34m(\u001b[0m\u001b[0moutput_tensor\u001b[0m\u001b[0;34m,\u001b[0m \u001b[0mlist\u001b[0m\u001b[0;34m)\u001b[0m\u001b[0;34m:\u001b[0m\u001b[0;34m\u001b[0m\u001b[0;34m\u001b[0m\u001b[0m\n\u001b[1;32m    183\u001b[0m                 raise TypeError('All layers in a Sequential model '\n",
      "\u001b[0;32m/usr/local/lib/python3.7/dist-packages/keras/engine/base_layer.py\u001b[0m in \u001b[0;36m__call__\u001b[0;34m(self, inputs, **kwargs)\u001b[0m\n\u001b[1;32m    412\u001b[0m                 \u001b[0;31m# Raise exceptions in case the input is not compatible\u001b[0m\u001b[0;34m\u001b[0m\u001b[0;34m\u001b[0m\u001b[0;34m\u001b[0m\u001b[0m\n\u001b[1;32m    413\u001b[0m                 \u001b[0;31m# with the input_spec specified in the layer constructor.\u001b[0m\u001b[0;34m\u001b[0m\u001b[0;34m\u001b[0m\u001b[0;34m\u001b[0m\u001b[0m\n\u001b[0;32m--> 414\u001b[0;31m                 \u001b[0mself\u001b[0m\u001b[0;34m.\u001b[0m\u001b[0massert_input_compatibility\u001b[0m\u001b[0;34m(\u001b[0m\u001b[0minputs\u001b[0m\u001b[0;34m)\u001b[0m\u001b[0;34m\u001b[0m\u001b[0;34m\u001b[0m\u001b[0m\n\u001b[0m\u001b[1;32m    415\u001b[0m \u001b[0;34m\u001b[0m\u001b[0m\n\u001b[1;32m    416\u001b[0m                 \u001b[0;31m# Collect input shapes to build layer.\u001b[0m\u001b[0;34m\u001b[0m\u001b[0;34m\u001b[0m\u001b[0;34m\u001b[0m\u001b[0m\n",
      "\u001b[0;32m/usr/local/lib/python3.7/dist-packages/keras/engine/base_layer.py\u001b[0m in \u001b[0;36massert_input_compatibility\u001b[0;34m(self, inputs)\u001b[0m\n\u001b[1;32m    309\u001b[0m                                      \u001b[0mself\u001b[0m\u001b[0;34m.\u001b[0m\u001b[0mname\u001b[0m \u001b[0;34m+\u001b[0m \u001b[0;34m': expected ndim='\u001b[0m \u001b[0;34m+\u001b[0m\u001b[0;34m\u001b[0m\u001b[0;34m\u001b[0m\u001b[0m\n\u001b[1;32m    310\u001b[0m                                      \u001b[0mstr\u001b[0m\u001b[0;34m(\u001b[0m\u001b[0mspec\u001b[0m\u001b[0;34m.\u001b[0m\u001b[0mndim\u001b[0m\u001b[0;34m)\u001b[0m \u001b[0;34m+\u001b[0m \u001b[0;34m', found ndim='\u001b[0m \u001b[0;34m+\u001b[0m\u001b[0;34m\u001b[0m\u001b[0;34m\u001b[0m\u001b[0m\n\u001b[0;32m--> 311\u001b[0;31m                                      str(K.ndim(x)))\n\u001b[0m\u001b[1;32m    312\u001b[0m             \u001b[0;32mif\u001b[0m \u001b[0mspec\u001b[0m\u001b[0;34m.\u001b[0m\u001b[0mmax_ndim\u001b[0m \u001b[0;32mis\u001b[0m \u001b[0;32mnot\u001b[0m \u001b[0;32mNone\u001b[0m\u001b[0;34m:\u001b[0m\u001b[0;34m\u001b[0m\u001b[0;34m\u001b[0m\u001b[0m\n\u001b[1;32m    313\u001b[0m                 \u001b[0mndim\u001b[0m \u001b[0;34m=\u001b[0m \u001b[0mK\u001b[0m\u001b[0;34m.\u001b[0m\u001b[0mndim\u001b[0m\u001b[0;34m(\u001b[0m\u001b[0mx\u001b[0m\u001b[0;34m)\u001b[0m\u001b[0;34m\u001b[0m\u001b[0;34m\u001b[0m\u001b[0m\n",
      "\u001b[0;31mValueError\u001b[0m: Input 0 is incompatible with layer permute_1: expected ndim=3, found ndim=2"
     ]
    }
   ],
   "source": [
    "model_2d = Sequential()\n",
    "model_2d.add(Dense(128, input_dim=x_train.shape[1], activation='sigmoid'))\n",
    "model_2d.add(Dropout(rate = 0.05))\n",
    "model_2d.add(Dense(units=1, activation='sigmoid'))"
   ]
  },
  {
   "cell_type": "code",
   "execution_count": 29,
   "metadata": {},
   "outputs": [
    {
     "name": "stdout",
     "output_type": "stream",
     "text": [
      "_________________________________________________________________\n",
      "Layer (type)                 Output Shape              Param #   \n",
      "=================================================================\n",
      "dense_9 (Dense)              (None, 128)               16512     \n",
      "_________________________________________________________________\n",
      "dropout_5 (Dropout)          (None, 128)               0         \n",
      "_________________________________________________________________\n",
      "dense_10 (Dense)             (None, 1)                 129       \n",
      "=================================================================\n",
      "Total params: 16,641\n",
      "Trainable params: 16,641\n",
      "Non-trainable params: 0\n",
      "_________________________________________________________________\n"
     ]
    }
   ],
   "source": [
    "model_2d.summary()"
   ]
  },
  {
   "cell_type": "code",
   "execution_count": 30,
   "metadata": {},
   "outputs": [
    {
     "name": "stdout",
     "output_type": "stream",
     "text": [
      "Epoch 1/50\n",
      "10751/10751 [==============================] - 1s 72us/step - loss: 0.6850 - acc: 0.5527\n",
      "Epoch 2/50\n",
      "10751/10751 [==============================] - 0s 37us/step - loss: 0.6575 - acc: 0.6056\n",
      "Epoch 3/50\n",
      "10751/10751 [==============================] - 0s 37us/step - loss: 0.6410 - acc: 0.6342\n",
      "Epoch 4/50\n",
      "10751/10751 [==============================] - 0s 36us/step - loss: 0.6287 - acc: 0.6543\n",
      "Epoch 5/50\n",
      "10751/10751 [==============================] - 0s 42us/step - loss: 0.6168 - acc: 0.6660\n",
      "Epoch 6/50\n",
      "10751/10751 [==============================] - 0s 44us/step - loss: 0.6053 - acc: 0.6838\n",
      "Epoch 7/50\n",
      "10751/10751 [==============================] - 1s 58us/step - loss: 0.5962 - acc: 0.6898\n",
      "Epoch 8/50\n",
      "10751/10751 [==============================] - 1s 47us/step - loss: 0.5903 - acc: 0.7001\n",
      "Epoch 9/50\n",
      "10751/10751 [==============================] - 0s 40us/step - loss: 0.5768 - acc: 0.7157\n",
      "Epoch 10/50\n",
      "10751/10751 [==============================] - 0s 40us/step - loss: 0.5619 - acc: 0.7228\n",
      "Epoch 11/50\n",
      "10751/10751 [==============================] - 0s 36us/step - loss: 0.5580 - acc: 0.7222\n",
      "Epoch 12/50\n",
      "10751/10751 [==============================] - 0s 38us/step - loss: 0.5471 - acc: 0.7317\n",
      "Epoch 13/50\n",
      "10751/10751 [==============================] - 0s 37us/step - loss: 0.5321 - acc: 0.7423\n",
      "Epoch 14/50\n",
      "10751/10751 [==============================] - 0s 36us/step - loss: 0.5193 - acc: 0.7479\n",
      "Epoch 15/50\n",
      "10751/10751 [==============================] - 0s 35us/step - loss: 0.5090 - acc: 0.7576\n",
      "Epoch 16/50\n",
      "10751/10751 [==============================] - 0s 36us/step - loss: 0.4988 - acc: 0.7615\n",
      "Epoch 17/50\n",
      "10751/10751 [==============================] - 0s 37us/step - loss: 0.4888 - acc: 0.7680\n",
      "Epoch 18/50\n",
      "10751/10751 [==============================] - 0s 37us/step - loss: 0.4769 - acc: 0.7796\n",
      "Epoch 19/50\n",
      "10751/10751 [==============================] - 0s 37us/step - loss: 0.4701 - acc: 0.7837\n",
      "Epoch 20/50\n",
      "10751/10751 [==============================] - 0s 36us/step - loss: 0.4608 - acc: 0.7850\n",
      "Epoch 21/50\n",
      "10751/10751 [==============================] - 0s 40us/step - loss: 0.4460 - acc: 0.7934\n",
      "Epoch 22/50\n",
      "10751/10751 [==============================] - 0s 38us/step - loss: 0.4373 - acc: 0.8027\n",
      "Epoch 23/50\n",
      "10751/10751 [==============================] - 0s 37us/step - loss: 0.4266 - acc: 0.8076\n",
      "Epoch 24/50\n",
      "10751/10751 [==============================] - 1s 59us/step - loss: 0.4166 - acc: 0.8134\n",
      "Epoch 25/50\n",
      "10751/10751 [==============================] - 1s 57us/step - loss: 0.4035 - acc: 0.8209\n",
      "Epoch 26/50\n",
      "10751/10751 [==============================] - 1s 54us/step - loss: 0.3913 - acc: 0.8293\n",
      "Epoch 27/50\n",
      "10751/10751 [==============================] - 1s 56us/step - loss: 0.3824 - acc: 0.8331\n",
      "Epoch 28/50\n",
      "10751/10751 [==============================] - 1s 58us/step - loss: 0.3698 - acc: 0.8379\n",
      "Epoch 29/50\n",
      "10751/10751 [==============================] - 1s 47us/step - loss: 0.3570 - acc: 0.8489\n",
      "Epoch 30/50\n",
      "10751/10751 [==============================] - 0s 38us/step - loss: 0.3439 - acc: 0.8575\n",
      "Epoch 31/50\n",
      "10751/10751 [==============================] - 1s 48us/step - loss: 0.3325 - acc: 0.8623\n",
      "Epoch 32/50\n",
      "10751/10751 [==============================] - 0s 37us/step - loss: 0.3264 - acc: 0.8651\n",
      "Epoch 33/50\n",
      "10751/10751 [==============================] - 0s 37us/step - loss: 0.3154 - acc: 0.8690\n",
      "Epoch 34/50\n",
      "10751/10751 [==============================] - 0s 44us/step - loss: 0.3051 - acc: 0.8739\n",
      "Epoch 35/50\n",
      "10751/10751 [==============================] - 1s 55us/step - loss: 0.2950 - acc: 0.8796\n",
      "Epoch 36/50\n",
      "10751/10751 [==============================] - 0s 37us/step - loss: 0.2891 - acc: 0.8830\n",
      "Epoch 37/50\n",
      "10751/10751 [==============================] - 0s 45us/step - loss: 0.2820 - acc: 0.8830\n",
      "Epoch 38/50\n",
      "10751/10751 [==============================] - 0s 37us/step - loss: 0.2762 - acc: 0.8847\n",
      "Epoch 39/50\n",
      "10751/10751 [==============================] - 0s 41us/step - loss: 0.2636 - acc: 0.8929\n",
      "Epoch 40/50\n",
      "10751/10751 [==============================] - 0s 38us/step - loss: 0.2563 - acc: 0.8937\n",
      "Epoch 41/50\n",
      "10751/10751 [==============================] - 0s 41us/step - loss: 0.2562 - acc: 0.8944\n",
      "Epoch 42/50\n",
      "10751/10751 [==============================] - 0s 46us/step - loss: 0.2462 - acc: 0.8987\n",
      "Epoch 43/50\n",
      "10751/10751 [==============================] - 0s 40us/step - loss: 0.2403 - acc: 0.8980\n",
      "Epoch 44/50\n",
      "10751/10751 [==============================] - 0s 38us/step - loss: 0.2348 - acc: 0.9006\n",
      "Epoch 45/50\n",
      "10751/10751 [==============================] - 0s 40us/step - loss: 0.2293 - acc: 0.9053\n",
      "Epoch 46/50\n",
      "10751/10751 [==============================] - 0s 37us/step - loss: 0.2274 - acc: 0.9051\n",
      "Epoch 47/50\n",
      "10751/10751 [==============================] - 0s 38us/step - loss: 0.2217 - acc: 0.9093\n",
      "Epoch 48/50\n",
      "10751/10751 [==============================] - 0s 39us/step - loss: 0.2213 - acc: 0.9088\n",
      "Epoch 49/50\n",
      "10751/10751 [==============================] - 0s 37us/step - loss: 0.2151 - acc: 0.9079\n",
      "Epoch 50/50\n",
      "10751/10751 [==============================] - 0s 38us/step - loss: 0.2094 - acc: 0.9136\n"
     ]
    },
    {
     "data": {
      "text/plain": [
       "<keras.callbacks.History at 0x7f18b67959b0>"
      ]
     },
     "execution_count": 30,
     "metadata": {},
     "output_type": "execute_result"
    }
   ],
   "source": [
    "model_2d.compile(optimizer=Adadelta(), loss='binary_crossentropy', metrics=['accuracy'])\n",
    "model_2d.fit(x_train, y_train, epochs=50, batch_size=64)"
   ]
  },
  {
   "cell_type": "code",
   "execution_count": 31,
   "metadata": {},
   "outputs": [
    {
     "name": "stdout",
     "output_type": "stream",
     "text": [
      "10751/10751 [==============================] - 1s 47us/step\n"
     ]
    },
    {
     "data": {
      "text/plain": [
       "[0.17792297647050587, 0.9251232442662013]"
      ]
     },
     "execution_count": 31,
     "metadata": {},
     "output_type": "execute_result"
    }
   ],
   "source": [
    "model_2d.evaluate(x_test,y_test)"
   ]
  },
  {
   "cell_type": "code",
   "execution_count": null,
   "metadata": {},
   "outputs": [],
   "source": []
  }
 ],
 "metadata": {
  "kernelspec": {
   "display_name": "Python 3",
   "language": "python",
   "name": "python3"
  },
  "language_info": {
   "codemirror_mode": {
    "name": "ipython",
    "version": 3
   },
   "file_extension": ".py",
   "mimetype": "text/x-python",
   "name": "python",
   "nbconvert_exporter": "python",
   "pygments_lexer": "ipython3",
   "version": "3.6.8"
  },
  "toc": {
   "base_numbering": 1,
   "nav_menu": {},
   "number_sections": true,
   "sideBar": true,
   "skip_h1_title": false,
   "title_cell": "Table of Contents",
   "title_sidebar": "Contents",
   "toc_cell": false,
   "toc_position": {},
   "toc_section_display": true,
   "toc_window_display": false
  }
 },
 "nbformat": 4,
 "nbformat_minor": 2
}
