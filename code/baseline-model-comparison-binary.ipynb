{
 "cells": [
  {
   "cell_type": "markdown",
   "metadata": {},
   "source": [
    "# Import Packages and Data"
   ]
  },
  {
   "cell_type": "code",
   "execution_count": 1,
   "metadata": {},
   "outputs": [],
   "source": [
    "import numpy as np\n",
    "np.random.seed(1248)"
   ]
  },
  {
   "cell_type": "code",
   "execution_count": 2,
   "metadata": {},
   "outputs": [
    {
     "name": "stderr",
     "output_type": "stream",
     "text": [
      "Using TensorFlow backend.\n"
     ]
    }
   ],
   "source": [
    "import tensorflow\n",
    "import keras\n",
    "import pandas as pd\n",
    "import sklearn\n",
    "from sklearn.model_selection import train_test_split\n",
    "import pickle\n",
    "from keras.layers import Dense\n",
    "from keras.models import Sequential\n",
    "from keras.optimizers import RMSprop, Adadelta, Adam"
   ]
  },
  {
   "cell_type": "code",
   "execution_count": 3,
   "metadata": {},
   "outputs": [],
   "source": [
    "data = pd.read_csv('../data/buffer_overflow_data.csv.gz')\n",
    "labels = data.copy()\n",
    "del labels['Unnamed: 0']\n",
    "del labels['Unnamed: 0.1']\n",
    "del labels['filename']\n",
    "del labels['code']\n",
    "del labels['flaw']\n",
    "del labels['flaw_loc']\n",
    "labels = labels.drop_duplicates().sort_values('testcase_ID').reset_index(drop=True)"
   ]
  },
  {
   "cell_type": "code",
   "execution_count": 4,
   "metadata": {},
   "outputs": [],
   "source": [
    "x = pd.read_csv(\"../data/buffer_overflow_graph_embeddings.csv.gz\")\n",
    "x['testcase_ID'] = x['type']\n",
    "del x['type']\n",
    "x = x.sort_values(\"testcase_ID\").reset_index(drop=True)"
   ]
  },
  {
   "cell_type": "code",
   "execution_count": 5,
   "metadata": {
    "scrolled": true
   },
   "outputs": [],
   "source": [
    "y = labels['bug']\n",
    "x = x.drop('testcase_ID', axis='columns')"
   ]
  },
  {
   "cell_type": "code",
   "execution_count": 7,
   "metadata": {},
   "outputs": [],
   "source": [
    "import pickle\n",
    "\n",
    "with open('../data/x-train-binary','rb') as f:\n",
    "    x_train = pickle.load(f)\n",
    "    \n",
    "with open('../data/y-train-binary','rb') as f:\n",
    "    y_train = pickle.load(f)\n",
    "    \n",
    "with open('../data/x-test-binary','rb') as f:\n",
    "    x_test = pickle.load(f)\n",
    "    \n",
    "with open('../data/y-test-binary','rb') as f:\n",
    "    y_test = pickle.load(f)"
   ]
  },
  {
   "cell_type": "code",
   "execution_count": 9,
   "metadata": {},
   "outputs": [
    {
     "data": {
      "text/plain": [
       "(4301, 128)"
      ]
     },
     "execution_count": 9,
     "metadata": {},
     "output_type": "execute_result"
    }
   ],
   "source": [
    "x_test.shape"
   ]
  },
  {
   "cell_type": "markdown",
   "metadata": {},
   "source": [
    "# [Neural tutorial](https://towardsdatascience.com/neural-networks-from-scratch-easy-vs-hard-b26ddc2e89c7)"
   ]
  },
  {
   "cell_type": "code",
   "execution_count": 10,
   "metadata": {},
   "outputs": [
    {
     "name": "stdout",
     "output_type": "stream",
     "text": [
      "WARNING:tensorflow:From /usr/local/lib/python3.7/dist-packages/tensorflow/python/framework/op_def_library.py:263: colocate_with (from tensorflow.python.framework.ops) is deprecated and will be removed in a future version.\n",
      "Instructions for updating:\n",
      "Colocations handled automatically by placer.\n",
      "WARNING:tensorflow:From /usr/local/lib/python3.7/dist-packages/tensorflow/python/ops/math_ops.py:3066: to_int32 (from tensorflow.python.ops.math_ops) is deprecated and will be removed in a future version.\n",
      "Instructions for updating:\n",
      "Use tf.cast instead.\n"
     ]
    }
   ],
   "source": [
    "with open('../data/baseline-model-binary','rb') as f:\n",
    "    model = pickle.load(f)"
   ]
  },
  {
   "cell_type": "code",
   "execution_count": 11,
   "metadata": {},
   "outputs": [
    {
     "name": "stdout",
     "output_type": "stream",
     "text": [
      "WARNING:tensorflow:From /usr/local/lib/python3.7/dist-packages/keras/backend/tensorflow_backend.py:3445: calling dropout (from tensorflow.python.ops.nn_ops) with keep_prob is deprecated and will be removed in a future version.\n",
      "Instructions for updating:\n",
      "Please use `rate` instead of `keep_prob`. Rate should be set to `rate = 1 - keep_prob`.\n"
     ]
    }
   ],
   "source": [
    "with open('../data/binary-convolutional','rb') as f:\n",
    "    conv_model = pickle.load(f)"
   ]
  },
  {
   "cell_type": "code",
   "execution_count": 12,
   "metadata": {
    "scrolled": true
   },
   "outputs": [
    {
     "name": "stdout",
     "output_type": "stream",
     "text": [
      "4301/4301 [==============================] - 0s 75us/step\n",
      "4301/4301 [==============================] - 0s 79us/step\n"
     ]
    }
   ],
   "source": [
    "nn_evaluate = model.evaluate(x_test,y_test)\n",
    "conv_nn_evaluate = conv_model.evaluate(x_test,y_test)"
   ]
  },
  {
   "cell_type": "code",
   "execution_count": 13,
   "metadata": {},
   "outputs": [],
   "source": [
    "nn_score = nn_evaluate[1]\n",
    "conv_nn_score = conv_nn_evaluate[1]"
   ]
  },
  {
   "cell_type": "code",
   "execution_count": 14,
   "metadata": {},
   "outputs": [
    {
     "data": {
      "text/plain": [
       "0.9118809579306218"
      ]
     },
     "execution_count": 14,
     "metadata": {},
     "output_type": "execute_result"
    }
   ],
   "source": [
    "nn_score"
   ]
  },
  {
   "cell_type": "code",
   "execution_count": 15,
   "metadata": {},
   "outputs": [
    {
     "data": {
      "text/plain": [
       "0.9479190885840503"
      ]
     },
     "execution_count": 15,
     "metadata": {},
     "output_type": "execute_result"
    }
   ],
   "source": [
    "conv_nn_score"
   ]
  },
  {
   "cell_type": "code",
   "execution_count": 16,
   "metadata": {},
   "outputs": [],
   "source": [
    "y_pred = model.predict_classes(x)"
   ]
  },
  {
   "cell_type": "code",
   "execution_count": 17,
   "metadata": {},
   "outputs": [],
   "source": [
    "import seaborn as sns\n",
    "from sklearn import metrics\n",
    "import matplotlib"
   ]
  },
  {
   "cell_type": "code",
   "execution_count": 18,
   "metadata": {},
   "outputs": [],
   "source": [
    "y_predict = model.predict(x_test)"
   ]
  },
  {
   "cell_type": "markdown",
   "metadata": {},
   "source": [
    "## Visualisations"
   ]
  },
  {
   "cell_type": "code",
   "execution_count": 20,
   "metadata": {},
   "outputs": [],
   "source": [
    "import numpy as np\n",
    "from matplotlib.colors import LogNorm"
   ]
  },
  {
   "cell_type": "code",
   "execution_count": 21,
   "metadata": {
    "cell_style": "center"
   },
   "outputs": [
    {
     "data": {
      "image/png": "[encoded data removed]",
      "text/plain": [
       "<Figure size 360x216 with 2 Axes>"
      ]
     },
     "metadata": {
      "needs_background": "light"
     },
     "output_type": "display_data"
    }
   ],
   "source": [
    "confusion_matrix = pd.DataFrame(\n",
    "    data=metrics.confusion_matrix(y_test, np.rint(y_predict)), \n",
    "    \n",
    ")\n",
    "\n",
    "confusion_figure, confusion_axes = matplotlib.pyplot.subplots()\n",
    "confusion_figure.set_size_inches(5, 3)\n",
    "confusion_axes.set_title(\n",
    "    'Confusion matrix showing the frequency of \\n'\n",
    "    'correct and incorrect bug classification predictions.'\n",
    "    '\\n\\n'  # hack to avoid overlap with x-axis labels below\n",
    ")\n",
    "confusion_axes.xaxis.tick_top()  # move x-axis labels to top of matrix\n",
    "_ = sns.heatmap(\n",
    "    confusion_matrix,\n",
    "    annot=True,\n",
    "    fmt=\"d\",\n",
    "    cmap=sns.color_palette(\"Blues\"),\n",
    "    vmin=0,\n",
    "    ax=confusion_axes,\n",
    ")"
   ]
  },
  {
   "cell_type": "code",
   "execution_count": 22,
   "metadata": {},
   "outputs": [],
   "source": [
    "tn, fp, fn, tp = metrics.confusion_matrix(y_test, np.rint(y_predict)).flatten().tolist()\n",
    "\n",
    "fpr_nn = fp/(fp+tp)\n",
    "fnr_nn = fn/(fn+tn)"
   ]
  },
  {
   "cell_type": "markdown",
   "metadata": {},
   "source": [
    "# Random Forest"
   ]
  },
  {
   "cell_type": "code",
   "execution_count": 23,
   "metadata": {},
   "outputs": [
    {
     "data": {
      "text/plain": [
       "RandomForestRegressor(bootstrap=True, criterion='mse', max_depth=None,\n",
       "                      max_features='auto', max_leaf_nodes=None,\n",
       "                      min_impurity_decrease=0.0, min_impurity_split=None,\n",
       "                      min_samples_leaf=1, min_samples_split=2,\n",
       "                      min_weight_fraction_leaf=0.0, n_estimators=100,\n",
       "                      n_jobs=None, oob_score=False, random_state=42, verbose=0,\n",
       "                      warm_start=False)"
      ]
     },
     "execution_count": 23,
     "metadata": {},
     "output_type": "execute_result"
    }
   ],
   "source": [
    "from sklearn.ensemble import RandomForestRegressor\n",
    "# Instantiate model with 1000 decision trees\n",
    "rf = RandomForestRegressor(n_estimators = 100, random_state = 42)\n",
    "# Train the model on training data\n",
    "rf.fit(x_train, y_train)"
   ]
  },
  {
   "cell_type": "code",
   "execution_count": 24,
   "metadata": {
    "scrolled": false
   },
   "outputs": [
    {
     "data": {
      "text/plain": [
       "0.6386809323441336"
      ]
     },
     "execution_count": 24,
     "metadata": {},
     "output_type": "execute_result"
    }
   ],
   "source": [
    "rf.score(x_test, y_test)"
   ]
  },
  {
   "cell_type": "code",
   "execution_count": 25,
   "metadata": {},
   "outputs": [],
   "source": [
    "\n",
    "y_pred_rf = pd.DataFrame(rf.predict(x_test))\n",
    "y_pred_rf = y_pred_rf.set_index(y_test.index)"
   ]
  },
  {
   "cell_type": "code",
   "execution_count": 26,
   "metadata": {},
   "outputs": [],
   "source": [
    "bin_y_pred_rf = np.rint(y_pred_rf)"
   ]
  },
  {
   "cell_type": "code",
   "execution_count": null,
   "metadata": {},
   "outputs": [],
   "source": [
    "from sklearn.metrics import accuracy_score"
   ]
  },
  {
   "cell_type": "code",
   "execution_count": null,
   "metadata": {},
   "outputs": [],
   "source": [
    "rf_accuracy = accuracy_score(y_test, np.rint(y_pred_rf))"
   ]
  },
  {
   "cell_type": "code",
   "execution_count": null,
   "metadata": {},
   "outputs": [],
   "source": [
    "from sklearn import metrics\n",
    "import matplotlib\n",
    "from matplotlib import pyplot\n",
    "import seaborn as sns"
   ]
  },
  {
   "cell_type": "code",
   "execution_count": null,
   "metadata": {},
   "outputs": [
    {
     "data": {
      "image/png": "[encoded data removed]",
      "text/plain": [
       "<Figure size 360x216 with 2 Axes>"
      ]
     },
     "metadata": {
      "needs_background": "light"
     },
     "output_type": "display_data"
    }
   ],
   "source": [
    "confusion_matrix = pd.DataFrame(\n",
    "    data=metrics.confusion_matrix(y_test, np.rint(y_pred_rf)), \n",
    "    \n",
    ")\n",
    "\n",
    "confusion_figure, confusion_axes = matplotlib.pyplot.subplots()\n",
    "confusion_figure.set_size_inches(5, 3)\n",
    "confusion_axes.set_title(\n",
    "    'Confusion matrix showing the frequency of \\n'\n",
    "    'correct and incorrect bug classification predictions.'\n",
    "    '\\n\\n'  # hack to avoid overlap with x-axis labels below\n",
    ")\n",
    "confusion_axes.xaxis.tick_top()  # move x-axis labels to top of matrix\n",
    "_ = sns.heatmap(\n",
    "    confusion_matrix,\n",
    "    annot=True,\n",
    "    fmt=\"d\",\n",
    "    cmap=sns.color_palette(\"Blues\"),\n",
    "    vmin=0,\n",
    "    ax=confusion_axes,\n",
    ")"
   ]
  },
  {
   "cell_type": "code",
   "execution_count": null,
   "metadata": {},
   "outputs": [],
   "source": [
    "tn, fp, fn, tp = metrics.confusion_matrix(y_test, np.rint(y_pred_rf)).flatten().tolist()\n",
    "\n",
    "fpr_rf = fp/(fp+tp)\n",
    "fnr_rf = fn/(fn+tn)"
   ]
  },
  {
   "cell_type": "markdown",
   "metadata": {},
   "source": [
    "Sort Visualisation Below!"
   ]
  },
  {
   "cell_type": "markdown",
   "metadata": {},
   "source": [
    "# KNN"
   ]
  },
  {
   "cell_type": "markdown",
   "metadata": {},
   "source": [
    "## 1NN"
   ]
  },
  {
   "cell_type": "code",
   "execution_count": null,
   "metadata": {},
   "outputs": [
    {
     "data": {
      "text/plain": [
       "KNeighborsClassifier(algorithm='kd_tree', leaf_size=30, metric='minkowski',\n",
       "                     metric_params=None, n_jobs=None, n_neighbors=1, p=2,\n",
       "                     weights='distance')"
      ]
     },
     "execution_count": null,
     "metadata": {},
     "output_type": "execute_result"
    }
   ],
   "source": [
    "from sklearn.neighbors import KNeighborsClassifier \n",
    "\n",
    "oneknn = KNeighborsClassifier(n_neighbors=1, algorithm = 'kd_tree', weights = 'distance')\n",
    "oneknn.fit(x_train, y_train)"
   ]
  },
  {
   "cell_type": "code",
   "execution_count": null,
   "metadata": {},
   "outputs": [],
   "source": [
    "y_pred_oneknn = pd.DataFrame(oneknn.predict(x_test))\n",
    "y_pred_oneknn = y_pred_oneknn.set_index(y_test.index)"
   ]
  },
  {
   "cell_type": "code",
   "execution_count": null,
   "metadata": {},
   "outputs": [],
   "source": [
    "oneknn_score=oneknn.score(x_test,y_test)"
   ]
  },
  {
   "cell_type": "code",
   "execution_count": null,
   "metadata": {},
   "outputs": [
    {
     "data": {
      "text/plain": [
       "0.8312020460358056"
      ]
     },
     "execution_count": null,
     "metadata": {},
     "output_type": "execute_result"
    }
   ],
   "source": [
    "oneknn_score"
   ]
  },
  {
   "cell_type": "code",
   "execution_count": null,
   "metadata": {},
   "outputs": [
    {
     "data": {
      "image/png": "[encoded data removed]",
      "text/plain": [
       "<Figure size 360x216 with 2 Axes>"
      ]
     },
     "metadata": {
      "needs_background": "light"
     },
     "output_type": "display_data"
    }
   ],
   "source": [
    "confusion_matrix = pd.DataFrame(\n",
    "    data=metrics.confusion_matrix(y_test, np.rint(y_pred_oneknn)), \n",
    "    \n",
    ")\n",
    "\n",
    "confusion_figure, confusion_axes = matplotlib.pyplot.subplots()\n",
    "confusion_figure.set_size_inches(5, 3)\n",
    "confusion_axes.set_title(\n",
    "    'Confusion matrix showing the frequency of \\n'\n",
    "    'correct and incorrect bug classification predictions.'\n",
    "    '\\n\\n'  # hack to avoid overlap with x-axis labels below\n",
    ")\n",
    "confusion_axes.xaxis.tick_top()  # move x-axis labels to top of matrix\n",
    "_ = sns.heatmap(\n",
    "    confusion_matrix,\n",
    "    annot=True,\n",
    "    fmt=\"d\",\n",
    "    cmap=sns.color_palette(\"Blues\"),\n",
    "    vmin=0,\n",
    "    ax=confusion_axes,\n",
    ")"
   ]
  },
  {
   "cell_type": "code",
   "execution_count": null,
   "metadata": {},
   "outputs": [],
   "source": [
    "tn, fp, fn, tp = metrics.confusion_matrix(y_test, np.rint(y_pred_oneknn)).flatten().tolist()\n",
    "\n",
    "fpr_onenn = fp/(fp+tp)\n",
    "fnr_onenn = fn/(fn+tn)"
   ]
  },
  {
   "cell_type": "markdown",
   "metadata": {},
   "source": [
    "2NN returns the same as one"
   ]
  },
  {
   "cell_type": "markdown",
   "metadata": {},
   "source": [
    "## 3NN"
   ]
  },
  {
   "cell_type": "code",
   "execution_count": null,
   "metadata": {},
   "outputs": [
    {
     "data": {
      "text/plain": [
       "KNeighborsClassifier(algorithm='auto', leaf_size=30, metric='minkowski',\n",
       "                     metric_params=None, n_jobs=None, n_neighbors=3, p=2,\n",
       "                     weights='distance')"
      ]
     },
     "execution_count": null,
     "metadata": {},
     "output_type": "execute_result"
    }
   ],
   "source": [
    "from sklearn.neighbors import KNeighborsClassifier \n",
    "\n",
    "threeknn = KNeighborsClassifier(n_neighbors=3, weights = 'distance')\n",
    "threeknn.fit(x_train, y_train)"
   ]
  },
  {
   "cell_type": "code",
   "execution_count": null,
   "metadata": {},
   "outputs": [],
   "source": [
    "y_pred_threeknn = pd.DataFrame(threeknn.predict(x_test))"
   ]
  },
  {
   "cell_type": "code",
   "execution_count": null,
   "metadata": {},
   "outputs": [],
   "source": [
    "y_pred_threeknn = y_pred_threeknn.set_index(y_test.index)"
   ]
  },
  {
   "cell_type": "code",
   "execution_count": null,
   "metadata": {},
   "outputs": [],
   "source": [
    "threeknn_score=threeknn.score(x_test,y_test)"
   ]
  },
  {
   "cell_type": "code",
   "execution_count": null,
   "metadata": {},
   "outputs": [
    {
     "data": {
      "text/plain": [
       "0.820274354801209"
      ]
     },
     "execution_count": null,
     "metadata": {},
     "output_type": "execute_result"
    }
   ],
   "source": [
    "threeknn_score"
   ]
  },
  {
   "cell_type": "code",
   "execution_count": null,
   "metadata": {},
   "outputs": [
    {
     "data": {
      "image/png": "[encoded data removed]",
      "text/plain": [
       "<Figure size 360x216 with 2 Axes>"
      ]
     },
     "metadata": {
      "needs_background": "light"
     },
     "output_type": "display_data"
    }
   ],
   "source": [
    "confusion_matrix = pd.DataFrame(\n",
    "    data=metrics.confusion_matrix(y_test, np.rint(y_pred_threeknn)), \n",
    "    \n",
    ")\n",
    "\n",
    "confusion_figure, confusion_axes = matplotlib.pyplot.subplots()\n",
    "confusion_figure.set_size_inches(5, 3)\n",
    "confusion_axes.set_title(\n",
    "    'Confusion matrix showing the frequency of \\n'\n",
    "    'correct and incorrect bug classification predictions.'\n",
    "    '\\n\\n'  # hack to avoid overlap with x-axis labels below\n",
    ")\n",
    "confusion_axes.xaxis.tick_top()  # move x-axis labels to top of matrix\n",
    "_ = sns.heatmap(\n",
    "    confusion_matrix,\n",
    "    annot=True,\n",
    "    fmt=\"d\",\n",
    "    cmap=sns.color_palette(\"Blues\"),\n",
    "    vmin=0,\n",
    "    ax=confusion_axes,\n",
    ")"
   ]
  },
  {
   "cell_type": "code",
   "execution_count": null,
   "metadata": {},
   "outputs": [],
   "source": [
    "tn, fp, fn, tp = metrics.confusion_matrix(y_test, np.rint(y_pred_threeknn)).flatten().tolist()\n",
    "\n",
    "fpr_threenn = fp/(fp+tp)\n",
    "fnr_threenn = fn/(fn+tn)"
   ]
  },
  {
   "cell_type": "markdown",
   "metadata": {},
   "source": [
    "## Gaussian Naive Bayes"
   ]
  },
  {
   "cell_type": "code",
   "execution_count": null,
   "metadata": {},
   "outputs": [],
   "source": [
    "from sklearn.naive_bayes import GaussianNB\n",
    "gnb = GaussianNB()\n",
    "y_pred_gnb = gnb.fit(x_train, y_train).predict(x_test)"
   ]
  },
  {
   "cell_type": "code",
   "execution_count": null,
   "metadata": {
    "scrolled": true
   },
   "outputs": [
    {
     "name": "stdout",
     "output_type": "stream",
     "text": [
      "Number of mislabeled points out of a total 4301 points : 1707\n",
      "Accuracy 0.6031155545222041\n"
     ]
    }
   ],
   "source": [
    "total_error = (y_test != y_pred_gnb).sum()\n",
    "\n",
    "print(\"Number of mislabeled points out of a total %d points : %d\"\n",
    "       % (x_test.shape[0],total_error))\n",
    "print(\"Accuracy \" + str(1- (total_error/x_test.shape[0])))"
   ]
  },
  {
   "cell_type": "code",
   "execution_count": null,
   "metadata": {},
   "outputs": [],
   "source": [
    "gnb_score = 1- (total_error/x_test.shape[0])"
   ]
  },
  {
   "cell_type": "code",
   "execution_count": null,
   "metadata": {},
   "outputs": [
    {
     "data": {
      "image/png": "[encoded data removed]",
      "text/plain": [
       "<Figure size 360x216 with 2 Axes>"
      ]
     },
     "metadata": {
      "needs_background": "light"
     },
     "output_type": "display_data"
    }
   ],
   "source": [
    "confusion_matrix = pd.DataFrame(\n",
    "    data=metrics.confusion_matrix(y_test, np.rint(y_pred_gnb)), \n",
    "    \n",
    ")\n",
    "\n",
    "confusion_figure, confusion_axes = matplotlib.pyplot.subplots()\n",
    "confusion_figure.set_size_inches(5, 3)\n",
    "confusion_axes.set_title(\n",
    "    'Confusion matrix showing the frequency of \\n'\n",
    "    'correct and incorrect bug classification predictions.'\n",
    "    '\\n\\n'  # hack to avoid overlap with x-axis labels below\n",
    ")\n",
    "confusion_axes.xaxis.tick_top()  # move x-axis labels to top of matrix\n",
    "_ = sns.heatmap(\n",
    "    confusion_matrix,\n",
    "    annot=True,\n",
    "    fmt=\"d\",\n",
    "    cmap=sns.color_palette(\"Blues\"),\n",
    "    vmin=0,\n",
    "    ax=confusion_axes,\n",
    ")"
   ]
  },
  {
   "cell_type": "code",
   "execution_count": null,
   "metadata": {},
   "outputs": [],
   "source": [
    "tn, fp, fn, tp = metrics.confusion_matrix(y_test, np.rint(y_pred_gnb)).flatten().tolist()\n",
    "\n",
    "fpr_gnb = fp/(fp+tp)\n",
    "fnr_gnb = fn/(fn+tn)"
   ]
  },
  {
   "cell_type": "markdown",
   "metadata": {},
   "source": [
    "## SVM\n",
    "\n"
   ]
  },
  {
   "cell_type": "code",
   "execution_count": null,
   "metadata": {},
   "outputs": [],
   "source": [
    "from sklearn import svm\n",
    "clf_svm = svm.SVC(kernel = 'poly', gamma='scale', degree = 3)\n",
    "clf_svm.fit(x_train, y_train)  \n",
    "\n",
    "y_pred_svm = clf_svm.predict(x_test)"
   ]
  },
  {
   "cell_type": "code",
   "execution_count": null,
   "metadata": {},
   "outputs": [
    {
     "name": "stdout",
     "output_type": "stream",
     "text": [
      "Number of mislabeled points out of a total 4301 points : 496\n",
      "Accuracy 0.8846779818646826\n"
     ]
    }
   ],
   "source": [
    "total_error = (y_test != y_pred_svm).sum()\n",
    "\n",
    "print(\"Number of mislabeled points out of a total %d points : %d\"\n",
    "       % (x_test.shape[0],total_error))\n",
    "print(\"Accuracy \" + str(1- (total_error/x_test.shape[0])))"
   ]
  },
  {
   "cell_type": "code",
   "execution_count": null,
   "metadata": {},
   "outputs": [],
   "source": [
    "svm_score = 1- (total_error/x_test.shape[0])"
   ]
  },
  {
   "cell_type": "code",
   "execution_count": null,
   "metadata": {},
   "outputs": [
    {
     "data": {
      "image/png": "[encoded data removed]",
      "text/plain": [
       "<Figure size 360x216 with 2 Axes>"
      ]
     },
     "metadata": {
      "needs_background": "light"
     },
     "output_type": "display_data"
    }
   ],
   "source": [
    "confusion_matrix = pd.DataFrame(\n",
    "    data=metrics.confusion_matrix(y_test, np.rint(y_pred_svm)), \n",
    "    \n",
    ")\n",
    "\n",
    "confusion_figure, confusion_axes = matplotlib.pyplot.subplots()\n",
    "confusion_figure.set_size_inches(5, 3)\n",
    "confusion_axes.set_title(\n",
    "    'Confusion matrix showing the frequency of \\n'\n",
    "    'correct and incorrect bug classification predictions.'\n",
    "    '\\n\\n'  # hack to avoid overlap with x-axis labels below\n",
    ")\n",
    "confusion_axes.xaxis.tick_top()  # move x-axis labels to top of matrix\n",
    "_ = sns.heatmap(\n",
    "    confusion_matrix,\n",
    "    annot=True,\n",
    "    fmt=\"d\",\n",
    "    cmap=sns.color_palette(\"Blues\"),\n",
    "    vmin=0,\n",
    "    ax=confusion_axes,\n",
    ")"
   ]
  },
  {
   "cell_type": "code",
   "execution_count": null,
   "metadata": {},
   "outputs": [],
   "source": [
    "tn, fp, fn, tp = metrics.confusion_matrix(y_test, np.rint(y_pred_svm)).flatten().tolist()\n",
    "\n",
    "fpr_svm = fp/(fp+tp)\n",
    "fnr_svm = fn/(fn+tn)"
   ]
  },
  {
   "cell_type": "markdown",
   "metadata": {},
   "source": [
    "# Logistic Regression"
   ]
  },
  {
   "cell_type": "code",
   "execution_count": null,
   "metadata": {},
   "outputs": [],
   "source": [
    "from sklearn.linear_model import LogisticRegression"
   ]
  },
  {
   "cell_type": "code",
   "execution_count": null,
   "metadata": {},
   "outputs": [
    {
     "name": "stderr",
     "output_type": "stream",
     "text": [
      "/usr/local/lib/python3.7/dist-packages/sklearn/linear_model/logistic.py:432: FutureWarning: Default solver will be changed to 'lbfgs' in 0.22. Specify a solver to silence this warning.\n",
      "  FutureWarning)\n",
      "/usr/local/lib/python3.7/dist-packages/sklearn/svm/base.py:929: ConvergenceWarning: Liblinear failed to converge, increase the number of iterations.\n",
      "  \"the number of iterations.\", ConvergenceWarning)\n"
     ]
    },
    {
     "data": {
      "text/plain": [
       "LogisticRegression(C=1.0, class_weight=None, dual=False, fit_intercept=True,\n",
       "                   intercept_scaling=1, l1_ratio=None, max_iter=100,\n",
       "                   multi_class='warn', n_jobs=None, penalty='l1',\n",
       "                   random_state=None, solver='warn', tol=0.0001, verbose=0,\n",
       "                   warm_start=False)"
      ]
     },
     "execution_count": null,
     "metadata": {},
     "output_type": "execute_result"
    }
   ],
   "source": [
    "logreg = LogisticRegression(penalty = 'l1')\n",
    "logreg.fit(x_train, y_train)"
   ]
  },
  {
   "cell_type": "code",
   "execution_count": null,
   "metadata": {},
   "outputs": [
    {
     "name": "stdout",
     "output_type": "stream",
     "text": [
      "Accuracy 0.9011857707509882\n",
      "Accuracy 0.9018832829574518\n"
     ]
    }
   ],
   "source": [
    "y_pred_lr = logreg.predict(x_test)\n",
    "print('Accuracy ' + str(logreg.score(x_test, y_test)))"
   ]
  },
  {
   "cell_type": "code",
   "execution_count": null,
   "metadata": {},
   "outputs": [],
   "source": [
    "logreg_accuracy = logreg.score(x_test, y_test)"
   ]
  },
  {
   "cell_type": "code",
   "execution_count": null,
   "metadata": {},
   "outputs": [
    {
     "data": {
      "image/png": "[encoded data removed]",
      "text/plain": [
       "<Figure size 360x216 with 2 Axes>"
      ]
     },
     "metadata": {
      "needs_background": "light"
     },
     "output_type": "display_data"
    }
   ],
   "source": [
    "confusion_matrix = pd.DataFrame(\n",
    "    data=metrics.confusion_matrix(y_test, np.rint(y_pred_lr)), \n",
    "    \n",
    ")\n",
    "\n",
    "confusion_figure, confusion_axes = matplotlib.pyplot.subplots()\n",
    "confusion_figure.set_size_inches(5, 3)\n",
    "confusion_axes.set_title(\n",
    "    'Confusion matrix showing the frequency of \\n'\n",
    "    'correct and incorrect bug classification predictions.'\n",
    "    '\\n\\n'  # hack to avoid overlap with x-axis labels below\n",
    ")\n",
    "confusion_axes.xaxis.tick_top()  # move x-axis labels to top of matrix\n",
    "_ = sns.heatmap(\n",
    "    confusion_matrix,\n",
    "    annot=True,\n",
    "    fmt=\"d\",\n",
    "    cmap=sns.color_palette(\"Blues\"),\n",
    "    vmin=0,\n",
    "    ax=confusion_axes,\n",
    ")"
   ]
  },
  {
   "cell_type": "code",
   "execution_count": null,
   "metadata": {},
   "outputs": [],
   "source": [
    "tn, fp, fn, tp = metrics.confusion_matrix(y_test, np.rint(y_pred_lr)).flatten().tolist()\n",
    "\n",
    "fpr_logreg = fp/(fp+tp)\n",
    "fnr_logreg = fn/(fn+tn)"
   ]
  },
  {
   "cell_type": "markdown",
   "metadata": {},
   "source": [
    "# AdaBoost"
   ]
  },
  {
   "cell_type": "code",
   "execution_count": null,
   "metadata": {},
   "outputs": [],
   "source": [
    "from sklearn.ensemble import AdaBoostClassifier\n",
    "from sklearn.datasets import make_classification"
   ]
  },
  {
   "cell_type": "code",
   "execution_count": null,
   "metadata": {},
   "outputs": [
    {
     "data": {
      "text/plain": [
       "AdaBoostClassifier(algorithm='SAMME.R', base_estimator=None, learning_rate=1.0,\n",
       "                   n_estimators=100, random_state=0)"
      ]
     },
     "execution_count": null,
     "metadata": {},
     "output_type": "execute_result"
    }
   ],
   "source": [
    "clf_ab = AdaBoostClassifier(n_estimators=100, random_state=0)\n",
    "clf_ab.fit(x_train, y_train)"
   ]
  },
  {
   "cell_type": "code",
   "execution_count": null,
   "metadata": {},
   "outputs": [],
   "source": [
    "y_pred_ab = clf_ab.predict(x_test)\n",
    "# y_pred = y_pred.reshape(-1,1)\n",
    "# y_pred.shape"
   ]
  },
  {
   "cell_type": "code",
   "execution_count": null,
   "metadata": {},
   "outputs": [
    {
     "name": "stdout",
     "output_type": "stream",
     "text": [
      "Number of mislabeled points out of a total 4301 points : 885\n",
      "Accuracy 0.7942338990932342\n"
     ]
    }
   ],
   "source": [
    "total_error = (y_test != y_pred_ab).sum()\n",
    "\n",
    "print(\"Number of mislabeled points out of a total %d points : %d\"\n",
    "       % (x_test.shape[0],total_error))\n",
    "print(\"Accuracy \" + str(1- (total_error/x_test.shape[0])))"
   ]
  },
  {
   "cell_type": "code",
   "execution_count": null,
   "metadata": {},
   "outputs": [],
   "source": [
    "ab_accuracy = 1-(total_error/x_test.shape[0])"
   ]
  },
  {
   "cell_type": "code",
   "execution_count": null,
   "metadata": {},
   "outputs": [
    {
     "data": {
      "image/png": "[encoded data removed]",
      "text/plain": [
       "<Figure size 360x216 with 2 Axes>"
      ]
     },
     "metadata": {
      "needs_background": "light"
     },
     "output_type": "display_data"
    }
   ],
   "source": [
    "confusion_matrix = pd.DataFrame(\n",
    "    data=metrics.confusion_matrix(y_test, np.rint(y_pred_ab)), \n",
    "    \n",
    ")\n",
    "\n",
    "confusion_figure, confusion_axes = matplotlib.pyplot.subplots()\n",
    "confusion_figure.set_size_inches(5, 3)\n",
    "confusion_axes.set_title(\n",
    "    'Confusion matrix showing the frequency of \\n'\n",
    "    'correct and incorrect bug classification predictions.'\n",
    "    '\\n\\n'  # hack to avoid overlap with x-axis labels below\n",
    ")\n",
    "confusion_axes.xaxis.tick_top()  # move x-axis labels to top of matrix\n",
    "_ = sns.heatmap(\n",
    "    confusion_matrix,\n",
    "    annot=True,\n",
    "    fmt=\"d\",\n",
    "    cmap=sns.color_palette(\"Blues\"),\n",
    "    vmin=0,\n",
    "    ax=confusion_axes,\n",
    ")"
   ]
  },
  {
   "cell_type": "code",
   "execution_count": null,
   "metadata": {},
   "outputs": [],
   "source": [
    "tn, fp, fn, tp = metrics.confusion_matrix(y_test, np.rint(y_pred_ab)).flatten().tolist()\n",
    "\n",
    "fpr_ab = fp/(fp+tp)\n",
    "fnr_ab = fn/(fn+tn)"
   ]
  },
  {
   "cell_type": "markdown",
   "metadata": {},
   "source": [
    "# XGBoost"
   ]
  },
  {
   "cell_type": "code",
   "execution_count": null,
   "metadata": {},
   "outputs": [
    {
     "name": "stdout",
     "output_type": "stream",
     "text": [
      "Collecting xgboost\n",
      "\u001b[?25l  Downloading https://files.pythonhosted.org/packages/c1/24/5fe7237b2eca13ee0cfb100bec8c23f4e69ce9df852a64b0493d49dae4e0/xgboost-0.90-py2.py3-none-manylinux1_x86_64.whl (142.8MB)\n",
      "\u001b[K     |################################| 142.8MB 62kB/s  eta 0:00:01   |                                | 2.6MB 3.8MB/s eta 0:00:38     |#                               | 8.5MB 6.8MB/s eta 0:00:20     |##                              | 11.7MB 6.8MB/s eta 0:00:20     |#####                           | 24.0MB 7.1MB/s eta 0:00:17     |######                          | 29.8MB 7.3MB/s eta 0:00:16     |######                          | 31.2MB 7.3MB/s eta 0:00:16     |#######                         | 32.9MB 7.3MB/s eta 0:00:15     |#######                         | 34.6MB 7.3MB/s eta 0:00:15     |#######                         | 35.0MB 7.3MB/s eta 0:00:15  | 43.3MB 7.0MB/s eta 0:00:15     |############                    | 54.3MB 6.4MB/s eta 0:00:14     |############                    | 54.6MB 6.4MB/s eta 0:00:14     |##################              | 80.6MB 6.5MB/s eta 0:00:10     |####################            | 89.8MB 8.0MB/s eta 0:00:0790.3MB 8.0MB/s eta 0:00:07     |####################            | 91.5MB 1.3MB/s eta 0:00:39     |####################            | 92.3MB 1.3MB/s eta 0:00:38     |####################            | 92.7MB 1.3MB/s eta 0:00:38     |####################            | 93.4MB 1.3MB/s eta 0:00:37##################        | 108.3MB 7.3MB/s eta 0:00:05     |#########################       | 114.1MB 8.1MB/s eta 0:00:04#######################       | 115.0MB 8.1MB/s eta 0:00:04     |############################    | 126.2MB 9.2MB/s eta 0:00:02     |############################    | 126.5MB 1.2MB/s eta 0:00:14     |############################    | 127.1MB 1.2MB/s eta 0:00:14     |############################    | 128.4MB 1.2MB/s eta 0:00:13     |############################    | 128.9MB 1.2MB/s eta 0:00:12#######################   | 130.2MB 1.2MB/s eta 0:00:11############################  | 135.8MB 2.5MB/s eta 0:00:03     |##############################  | 136.4MB 2.5MB/s eta 0:00:03     |############################### | 139.8MB 5.5MB/s eta 0:00:01     |############################### | 140.0MB 5.5MB/s eta 0:00:01\n",
      "\u001b[?25hRequirement already satisfied: numpy in /usr/local/lib/python3.6/dist-packages (from xgboost) (1.16.4)\n",
      "Requirement already satisfied: scipy in /usr/local/lib/python3.6/dist-packages (from xgboost) (1.3.0)\n",
      "Installing collected packages: xgboost\n",
      "Successfully installed xgboost-0.90\n"
     ]
    }
   ],
   "source": [
    "!pip install xgboost"
   ]
  },
  {
   "cell_type": "code",
   "execution_count": null,
   "metadata": {},
   "outputs": [
    {
     "data": {
      "text/plain": [
       "0.690537084398977"
      ]
     },
     "execution_count": null,
     "metadata": {},
     "output_type": "execute_result"
    }
   ],
   "source": [
    "import xgboost as xgb\n",
    "model_xgb=xgb.XGBClassifier(random_state=1,learning_rate=0.01)\n",
    "model_xgb.fit(x_train, y_train)\n",
    "model_xgb.score(x_test,y_test)"
   ]
  },
  {
   "cell_type": "code",
   "execution_count": null,
   "metadata": {},
   "outputs": [],
   "source": [
    "y_pred_xgb = model_xgb.predict(x_test)"
   ]
  },
  {
   "cell_type": "code",
   "execution_count": null,
   "metadata": {},
   "outputs": [
    {
     "name": "stdout",
     "output_type": "stream",
     "text": [
      "Number of mislabeled points out of a total 4301 points : 1331\n",
      "Accuracy 0.690537084398977\n"
     ]
    }
   ],
   "source": [
    "total_error = (y_test != y_pred_xgb).sum()\n",
    "\n",
    "print(\"Number of mislabeled points out of a total %d points : %d\"\n",
    "       % (x_test.shape[0],total_error))\n",
    "print(\"Accuracy \" + str(1- (total_error/x_test.shape[0])))"
   ]
  },
  {
   "cell_type": "code",
   "execution_count": null,
   "metadata": {},
   "outputs": [],
   "source": [
    "xgb_accuracy = 1- (total_error/x_test.shape[0])"
   ]
  },
  {
   "cell_type": "code",
   "execution_count": null,
   "metadata": {},
   "outputs": [
    {
     "data": {
      "image/png": "[encoded data removed]",
      "text/plain": [
       "<Figure size 360x216 with 2 Axes>"
      ]
     },
     "metadata": {
      "needs_background": "light"
     },
     "output_type": "display_data"
    }
   ],
   "source": [
    "confusion_matrix = pd.DataFrame(\n",
    "    data=metrics.confusion_matrix(y_test, np.rint(y_pred_xgb)), \n",
    "    \n",
    ")\n",
    "\n",
    "confusion_figure, confusion_axes = matplotlib.pyplot.subplots()\n",
    "confusion_figure.set_size_inches(5, 3)\n",
    "confusion_axes.set_title(\n",
    "    'Confusion matrix showing the frequency of \\n'\n",
    "    'correct and incorrect bug classification predictions.'\n",
    "    '\\n\\n'  # hack to avoid overlap with x-axis labels below\n",
    ")\n",
    "confusion_axes.xaxis.tick_top()  # move x-axis labels to top of matrix\n",
    "_ = sns.heatmap(\n",
    "    confusion_matrix,\n",
    "    annot=True,\n",
    "    fmt=\"d\",\n",
    "    cmap=sns.color_palette(\"Blues\"),\n",
    "    vmin=0,\n",
    "    ax=confusion_axes,\n",
    ")"
   ]
  },
  {
   "cell_type": "code",
   "execution_count": null,
   "metadata": {},
   "outputs": [],
   "source": [
    "tn, fp, fn, tp = metrics.confusion_matrix(y_test, np.rint(y_pred_xgb)).flatten().tolist()\n",
    "\n",
    "fpr_xgb = fp/(fp+tp)\n",
    "fnr_xgb = fn/(fn+tn)"
   ]
  },
  {
   "cell_type": "markdown",
   "metadata": {},
   "source": [
    "# Table of Results"
   ]
  },
  {
   "cell_type": "code",
   "execution_count": null,
   "metadata": {},
   "outputs": [],
   "source": [
    "results = {'Model': ['Neural Network', 'Random Forest', '1 Nearest Neighbour', '3 Nearest Neighbours', 'Gaussian Naive Bayes', 'SVM', 'Logistic Regression', 'AdaBoost', 'XGBoost'], \n",
    "           'Accuracy' : [nn_score, rf_accuracy, oneknn_score, threeknn_score, gnb_score, svm_score, logreg_accuracy, ab_accuracy, xgb_accuracy],\n",
    "          'FPR' : [fpr_nn,fpr_rf,fpr_onenn,fpr_threenn,fpr_gnb,fpr_svm,fpr_logreg,fpr_ab,fpr_xgb],\n",
    "          'FNR' : [fnr_nn,fnr_rf,fnr_onenn,fnr_threenn,fnr_gnb,fnr_svm,fnr_logreg,fnr_ab,fnr_xgb]}\n",
    "accuracy_table = pd.DataFrame(data = results)"
   ]
  },
  {
   "cell_type": "code",
   "execution_count": null,
   "metadata": {
    "scrolled": true
   },
   "outputs": [
    {
     "data": {
      "text/html": [
       "<div>\n",
       "<style scoped>\n",
       "    .dataframe tbody tr th:only-of-type {\n",
       "        vertical-align: middle;\n",
       "    }\n",
       "\n",
       "    .dataframe tbody tr th {\n",
       "        vertical-align: top;\n",
       "    }\n",
       "\n",
       "    .dataframe thead th {\n",
       "        text-align: right;\n",
       "    }\n",
       "</style>\n",
       "<table border=\"1\" class=\"dataframe\">\n",
       "  <thead>\n",
       "    <tr style=\"text-align: right;\">\n",
       "      <th></th>\n",
       "      <th>Model</th>\n",
       "      <th>Accuracy</th>\n",
       "      <th>FPR</th>\n",
       "      <th>FNR</th>\n",
       "    </tr>\n",
       "  </thead>\n",
       "  <tbody>\n",
       "    <tr>\n",
       "      <th>0</th>\n",
       "      <td>Neural Network</td>\n",
       "      <td>0.911881</td>\n",
       "      <td>0.145800</td>\n",
       "      <td>0.009863</td>\n",
       "    </tr>\n",
       "    <tr>\n",
       "      <th>6</th>\n",
       "      <td>Logistic Regression</td>\n",
       "      <td>0.901883</td>\n",
       "      <td>0.107389</td>\n",
       "      <td>0.088596</td>\n",
       "    </tr>\n",
       "    <tr>\n",
       "      <th>1</th>\n",
       "      <td>Random Forest</td>\n",
       "      <td>0.890956</td>\n",
       "      <td>0.097679</td>\n",
       "      <td>0.119570</td>\n",
       "    </tr>\n",
       "    <tr>\n",
       "      <th>5</th>\n",
       "      <td>SVM</td>\n",
       "      <td>0.884678</td>\n",
       "      <td>0.140536</td>\n",
       "      <td>0.086957</td>\n",
       "    </tr>\n",
       "    <tr>\n",
       "      <th>2</th>\n",
       "      <td>1 Nearest Neighbour</td>\n",
       "      <td>0.831202</td>\n",
       "      <td>0.178326</td>\n",
       "      <td>0.158940</td>\n",
       "    </tr>\n",
       "    <tr>\n",
       "      <th>3</th>\n",
       "      <td>3 Nearest Neighbours</td>\n",
       "      <td>0.820274</td>\n",
       "      <td>0.198849</td>\n",
       "      <td>0.158590</td>\n",
       "    </tr>\n",
       "    <tr>\n",
       "      <th>7</th>\n",
       "      <td>AdaBoost</td>\n",
       "      <td>0.794234</td>\n",
       "      <td>0.198551</td>\n",
       "      <td>0.212461</td>\n",
       "    </tr>\n",
       "    <tr>\n",
       "      <th>8</th>\n",
       "      <td>XGBoost</td>\n",
       "      <td>0.690537</td>\n",
       "      <td>0.309772</td>\n",
       "      <td>0.309166</td>\n",
       "    </tr>\n",
       "    <tr>\n",
       "      <th>4</th>\n",
       "      <td>Gaussian Naive Bayes</td>\n",
       "      <td>0.603116</td>\n",
       "      <td>0.405333</td>\n",
       "      <td>0.387616</td>\n",
       "    </tr>\n",
       "  </tbody>\n",
       "</table>\n",
       "</div>"
      ],
      "text/plain": [
       "                  Model  Accuracy       FPR       FNR\n",
       "0        Neural Network  0.911881  0.145800  0.009863\n",
       "6   Logistic Regression  0.901883  0.107389  0.088596\n",
       "1         Random Forest  0.890956  0.097679  0.119570\n",
       "5                   SVM  0.884678  0.140536  0.086957\n",
       "2   1 Nearest Neighbour  0.831202  0.178326  0.158940\n",
       "3  3 Nearest Neighbours  0.820274  0.198849  0.158590\n",
       "7              AdaBoost  0.794234  0.198551  0.212461\n",
       "8               XGBoost  0.690537  0.309772  0.309166\n",
       "4  Gaussian Naive Bayes  0.603116  0.405333  0.387616"
      ]
     },
     "execution_count": 96,
     "metadata": {},
     "output_type": "execute_result"
    },
    {
     "data": {
      "text/html": [
       "<div>\n",
       "<style scoped>\n",
       "    .dataframe tbody tr th:only-of-type {\n",
       "        vertical-align: middle;\n",
       "    }\n",
       "\n",
       "    .dataframe tbody tr th {\n",
       "        vertical-align: top;\n",
       "    }\n",
       "\n",
       "    .dataframe thead th {\n",
       "        text-align: right;\n",
       "    }\n",
       "</style>\n",
       "<table border=\"1\" class=\"dataframe\">\n",
       "  <thead>\n",
       "    <tr style=\"text-align: right;\">\n",
       "      <th></th>\n",
       "      <th>Model</th>\n",
       "      <th>Accuracy</th>\n",
       "      <th>FPR</th>\n",
       "      <th>FNR</th>\n",
       "    </tr>\n",
       "  </thead>\n",
       "  <tbody>\n",
       "    <tr>\n",
       "      <th>0</th>\n",
       "      <td>Neural Network</td>\n",
       "      <td>0.911881</td>\n",
       "      <td>0.145800</td>\n",
       "      <td>0.009863</td>\n",
       "    </tr>\n",
       "    <tr>\n",
       "      <th>6</th>\n",
       "      <td>Logistic Regression</td>\n",
       "      <td>0.901883</td>\n",
       "      <td>0.107389</td>\n",
       "      <td>0.088596</td>\n",
       "    </tr>\n",
       "    <tr>\n",
       "      <th>1</th>\n",
       "      <td>Random Forest</td>\n",
       "      <td>0.890956</td>\n",
       "      <td>0.097679</td>\n",
       "      <td>0.119570</td>\n",
       "    </tr>\n",
       "    <tr>\n",
       "      <th>5</th>\n",
       "      <td>SVM</td>\n",
       "      <td>0.884678</td>\n",
       "      <td>0.140536</td>\n",
       "      <td>0.086957</td>\n",
       "    </tr>\n",
       "    <tr>\n",
       "      <th>2</th>\n",
       "      <td>1 Nearest Neighbour</td>\n",
       "      <td>0.831202</td>\n",
       "      <td>0.178326</td>\n",
       "      <td>0.158940</td>\n",
       "    </tr>\n",
       "    <tr>\n",
       "      <th>3</th>\n",
       "      <td>3 Nearest Neighbours</td>\n",
       "      <td>0.820274</td>\n",
       "      <td>0.198849</td>\n",
       "      <td>0.158590</td>\n",
       "    </tr>\n",
       "    <tr>\n",
       "      <th>7</th>\n",
       "      <td>AdaBoost</td>\n",
       "      <td>0.794234</td>\n",
       "      <td>0.198551</td>\n",
       "      <td>0.212461</td>\n",
       "    </tr>\n",
       "    <tr>\n",
       "      <th>8</th>\n",
       "      <td>XGBoost</td>\n",
       "      <td>0.690537</td>\n",
       "      <td>0.309772</td>\n",
       "      <td>0.309166</td>\n",
       "    </tr>\n",
       "    <tr>\n",
       "      <th>4</th>\n",
       "      <td>Gaussian Naive Bayes</td>\n",
       "      <td>0.603116</td>\n",
       "      <td>0.405333</td>\n",
       "      <td>0.387616</td>\n",
       "    </tr>\n",
       "  </tbody>\n",
       "</table>\n",
       "</div>"
      ],
      "text/plain": [
       "                  Model  Accuracy       FPR       FNR\n",
       "0        Neural Network  0.911881  0.145800  0.009863\n",
       "6   Logistic Regression  0.901883  0.107389  0.088596\n",
       "1         Random Forest  0.890956  0.097679  0.119570\n",
       "5                   SVM  0.884678  0.140536  0.086957\n",
       "2   1 Nearest Neighbour  0.831202  0.178326  0.158940\n",
       "3  3 Nearest Neighbours  0.820274  0.198849  0.158590\n",
       "7              AdaBoost  0.794234  0.198551  0.212461\n",
       "8               XGBoost  0.690537  0.309772  0.309166\n",
       "4  Gaussian Naive Bayes  0.603116  0.405333  0.387616"
      ]
     },
     "execution_count": null,
     "metadata": {},
     "output_type": "execute_result"
    }
   ],
   "source": [
    "accuracy_table.sort_values(by = ['Accuracy'], ascending=False)"
   ]
  },
  {
   "cell_type": "markdown",
   "metadata": {},
   "source": [
    "For T-SNE visualisations:"
   ]
  },
  {
   "cell_type": "code",
   "execution_count": 84,
   "metadata": {},
   "outputs": [],
   "source": [
    "true_labels = pd.DataFrame(y_test +0)"
   ]
  },
  {
   "cell_type": "code",
   "execution_count": 85,
   "metadata": {},
   "outputs": [],
   "source": [
    "pred_compare = pd.DataFrame()\n",
    "pred_compare['true_label'] = true_labels['bug']\n",
    "pred_compare['neuralnet'] = np.rint(y_predict).astype(int)\n",
    "pred_compare['rf'] = np.rint(y_pred_rf).astype(int)\n",
    "pred_compare['1nn'] = np.rint(y_pred_oneknn).astype(int)\n",
    "pred_compare['3nn'] = np.rint(y_pred_threeknn).astype(int)\n",
    "pred_compare['gnb'] = np.rint(y_pred_gnb).astype(int)\n",
    "pred_compare['svm'] = np.rint(y_pred_svm).astype(int)\n",
    "pred_compare['logreg'] = np.rint(y_pred_lr).astype(int)\n",
    "pred_compare['ab'] = np.rint(y_pred_ab).astype(int)\n",
    "pred_compare['xgb'] = np.rint(y_pred_xgb).astype(int)"
   ]
  },
  {
   "cell_type": "code",
   "execution_count": 86,
   "metadata": {},
   "outputs": [],
   "source": [
    "pred_compare.to_csv('../data/compare_predictions.csv.gz')"
   ]
  },
  {
   "cell_type": "markdown",
   "metadata": {},
   "source": [
    "# Stacking"
   ]
  },
  {
   "cell_type": "code",
   "execution_count": 89,
   "metadata": {},
   "outputs": [
    {
     "name": "stdout",
     "output_type": "stream",
     "text": [
      "Collecting vecstack\n",
      "  Downloading https://files.pythonhosted.org/packages/d9/1d/7665736f10f3e15af9d51b4e73c16c8ea798e339f6bf4eadfa1dee77c672/vecstack-0.3.0.tar.gz\n",
      "Requirement already satisfied: numpy in /usr/local/lib/python3.7/dist-packages (from vecstack) (1.16.4)\n",
      "Requirement already satisfied: scikit-learn>=0.18 in /usr/local/lib/python3.7/dist-packages (from vecstack) (0.21.2)\n",
      "Requirement already satisfied: scipy in /usr/local/lib/python3.7/dist-packages (from vecstack) (1.3.0)\n",
      "Requirement already satisfied: joblib>=0.11 in /usr/local/lib/python3.7/dist-packages (from scikit-learn>=0.18->vecstack) (0.13.0)\n",
      "Building wheels for collected packages: vecstack\n",
      "  Building wheel for vecstack (setup.py) ... \u001b[?25ldone\n",
      "\u001b[?25h  Stored in directory: /root/.cache/pip/wheels/35/6d/ca/bce17942bcf7c267b13c97c9c95e2f0ecf0b42160e6074f448\n",
      "Successfully built vecstack\n",
      "Installing collected packages: vecstack\n",
      "Successfully installed vecstack-0.3.0\n"
     ]
    }
   ],
   "source": [
    "!pip install vecstack"
   ]
  },
  {
   "cell_type": "code",
   "execution_count": 90,
   "metadata": {},
   "outputs": [
    {
     "name": "stderr",
     "output_type": "stream",
     "text": [
      "/usr/local/lib/python3.7/dist-packages/sklearn/externals/six.py:31: DeprecationWarning: The module is deprecated in version 0.21 and will be removed in version 0.23 since we've dropped support for Python 2.7. Please rely on the official version of six (https://pypi.org/project/six/).\n",
      "  \"(https://pypi.org/project/six/).\", DeprecationWarning)\n"
     ]
    }
   ],
   "source": [
    "from vecstack import stacking"
   ]
  },
  {
   "cell_type": "code",
   "execution_count": 91,
   "metadata": {},
   "outputs": [],
   "source": [
    "# models = [clf_svm, logreg]\n",
    "models = [clf_svm, logreg, oneknn]"
   ]
  },
  {
   "cell_type": "code",
   "execution_count": 92,
   "metadata": {},
   "outputs": [
    {
     "name": "stdout",
     "output_type": "stream",
     "text": [
      "task:         [classification]\n",
      "n_classes:    [2]\n",
      "metric:       [accuracy_score]\n",
      "mode:         [oof_pred_bag]\n",
      "n_models:     [3]\n",
      "\n",
      "model  0:     [SVC]\n",
      "    fold  0:  [0.87747036]\n",
      "    fold  1:  [0.88677052]\n",
      "    fold  2:  [0.88720930]\n",
      "    fold  3:  [0.88229821]\n",
      "    ----\n",
      "    MEAN:     [0.88343710] + [0.00394463]\n",
      "    FULL:     [0.88343701]\n",
      "\n",
      "model  1:     [LogisticRegression]\n"
     ]
    },
    {
     "name": "stderr",
     "output_type": "stream",
     "text": [
      "/usr/local/lib/python3.7/dist-packages/sklearn/linear_model/logistic.py:432: FutureWarning: Default solver will be changed to 'lbfgs' in 0.22. Specify a solver to silence this warning.\n",
      "  FutureWarning)\n",
      "/usr/local/lib/python3.7/dist-packages/sklearn/svm/base.py:929: ConvergenceWarning: Liblinear failed to converge, increase the number of iterations.\n",
      "  \"the number of iterations.\", ConvergenceWarning)\n",
      "/usr/local/lib/python3.7/dist-packages/sklearn/linear_model/logistic.py:432: FutureWarning: Default solver will be changed to 'lbfgs' in 0.22. Specify a solver to silence this warning.\n",
      "  FutureWarning)\n"
     ]
    },
    {
     "name": "stdout",
     "output_type": "stream",
     "text": [
      "    fold  0:  [0.88537549]\n"
     ]
    },
    {
     "name": "stderr",
     "output_type": "stream",
     "text": [
      "/usr/local/lib/python3.7/dist-packages/sklearn/svm/base.py:929: ConvergenceWarning: Liblinear failed to converge, increase the number of iterations.\n",
      "  \"the number of iterations.\", ConvergenceWarning)\n",
      "/usr/local/lib/python3.7/dist-packages/sklearn/linear_model/logistic.py:432: FutureWarning: Default solver will be changed to 'lbfgs' in 0.22. Specify a solver to silence this warning.\n",
      "  FutureWarning)\n"
     ]
    },
    {
     "name": "stdout",
     "output_type": "stream",
     "text": [
      "    fold  1:  [0.89537317]\n"
     ]
    },
    {
     "name": "stderr",
     "output_type": "stream",
     "text": [
      "/usr/local/lib/python3.7/dist-packages/sklearn/svm/base.py:929: ConvergenceWarning: Liblinear failed to converge, increase the number of iterations.\n",
      "  \"the number of iterations.\", ConvergenceWarning)\n",
      "/usr/local/lib/python3.7/dist-packages/sklearn/linear_model/logistic.py:432: FutureWarning: Default solver will be changed to 'lbfgs' in 0.22. Specify a solver to silence this warning.\n",
      "  FutureWarning)\n"
     ]
    },
    {
     "name": "stdout",
     "output_type": "stream",
     "text": [
      "    fold  2:  [0.89441860]\n"
     ]
    },
    {
     "name": "stderr",
     "output_type": "stream",
     "text": [
      "/usr/local/lib/python3.7/dist-packages/sklearn/svm/base.py:929: ConvergenceWarning: Liblinear failed to converge, increase the number of iterations.\n",
      "  \"the number of iterations.\", ConvergenceWarning)\n"
     ]
    },
    {
     "name": "stdout",
     "output_type": "stream",
     "text": [
      "    fold  3:  [0.88695045]\n",
      "    ----\n",
      "    MEAN:     [0.89052943] + [0.00441474]\n",
      "    FULL:     [0.89052962]\n",
      "\n",
      "model  2:     [KNeighborsClassifier]\n",
      "    fold  0:  [0.81260172]\n",
      "    fold  1:  [0.82376192]\n",
      "    fold  2:  [0.81162791]\n",
      "    fold  3:  [0.82065597]\n",
      "    ----\n",
      "    MEAN:     [0.81716188] + [0.00517661]\n",
      "    FULL:     [0.81716179]\n",
      "\n"
     ]
    }
   ],
   "source": [
    "S_train, S_test = stacking(models,                   \n",
    "                           x_train, y_train, x_test,   \n",
    "                           regression=False, \n",
    "     \n",
    "                           mode='oof_pred_bag', \n",
    "       \n",
    "                           needs_proba=False,\n",
    "         \n",
    "                           save_dir=None, \n",
    "            \n",
    "                           metric=accuracy_score, \n",
    "    \n",
    "                           n_folds=4, \n",
    "                 \n",
    "                           stratified=True,\n",
    "            \n",
    "                           shuffle=True,  \n",
    "            \n",
    "                           random_state=0,    \n",
    "         \n",
    "                           verbose=2)"
   ]
  },
  {
   "cell_type": "code",
   "execution_count": 122,
   "metadata": {},
   "outputs": [
    {
     "data": {
      "text/plain": [
       "(17201, 3)"
      ]
     },
     "execution_count": 122,
     "metadata": {},
     "output_type": "execute_result"
    }
   ],
   "source": [
    "S_train.shape"
   ]
  },
  {
   "cell_type": "code",
   "execution_count": 127,
   "metadata": {},
   "outputs": [
    {
     "data": {
      "text/plain": [
       "array([[1, 1, 1],\n",
       "       [0, 1, 0],\n",
       "       [0, 0, 1],\n",
       "       ...,\n",
       "       [1, 1, 1],\n",
       "       [0, 0, 0],\n",
       "       [1, 1, 1]])"
      ]
     },
     "execution_count": 127,
     "metadata": {},
     "output_type": "execute_result"
    }
   ],
   "source": [
    "S_train"
   ]
  },
  {
   "cell_type": "code",
   "execution_count": 123,
   "metadata": {},
   "outputs": [],
   "source": [
    "level_two = clf_svm.fit(S_train, y_train)\n",
    "y_pred_stack = level_two.predict(S_test)"
   ]
  },
  {
   "cell_type": "code",
   "execution_count": 124,
   "metadata": {},
   "outputs": [
    {
     "name": "stdout",
     "output_type": "stream",
     "text": [
      "Final prediction score: [0.92071611]\n"
     ]
    }
   ],
   "source": [
    "print('Final prediction score: [%.8f]' % accuracy_score(y_test, np.rint(y_pred_stack)))"
   ]
  },
  {
   "cell_type": "code",
   "execution_count": 93,
   "metadata": {},
   "outputs": [],
   "source": [
    "from keras.layers import RepeatVector, Permute, Lambda, ActivityRegularization, AveragePooling1D\n",
    "from keras.optimizers import Nadam, Adagrad\n",
    "from keras.layers import Dense, Dropout, Flatten, Reshape\n",
    "from keras.layers import Conv1D, MaxPooling1D, Conv2D\n",
    "from keras.models import Sequential\n",
    "from keras.layers.normalization import BatchNormalization\n",
    "from keras.layers.advanced_activations import LeakyReLU\n",
    "from keras.optimizers import RMSprop, Adadelta, Adam"
   ]
  },
  {
   "cell_type": "code",
   "execution_count": 94,
   "metadata": {},
   "outputs": [
    {
     "name": "stdout",
     "output_type": "stream",
     "text": [
      "_________________________________________________________________\n",
      "Layer (type)                 Output Shape              Param #   \n",
      "=================================================================\n",
      "dense_1 (Dense)              (None, 128)               512       \n",
      "_________________________________________________________________\n",
      "repeat_vector_1 (RepeatVecto (None, 3, 128)            0         \n",
      "_________________________________________________________________\n",
      "conv1d_1 (Conv1D)            (None, 1, 64)             24640     \n",
      "_________________________________________________________________\n",
      "dropout_1 (Dropout)          (None, 1, 64)             0         \n",
      "_________________________________________________________________\n",
      "max_pooling1d_1 (MaxPooling1 (None, 1, 64)             0         \n",
      "_________________________________________________________________\n",
      "flatten_1 (Flatten)          (None, 64)                0         \n",
      "_________________________________________________________________\n",
      "lambda_1 (Lambda)            (None, 64)                0         \n",
      "_________________________________________________________________\n",
      "dense_2 (Dense)              (None, 128)               8320      \n",
      "_________________________________________________________________\n",
      "dropout_2 (Dropout)          (None, 128)               0         \n",
      "_________________________________________________________________\n",
      "dense_3 (Dense)              (None, 1)                 129       \n",
      "=================================================================\n",
      "Total params: 33,601\n",
      "Trainable params: 33,601\n",
      "Non-trainable params: 0\n",
      "_________________________________________________________________\n"
     ]
    }
   ],
   "source": [
    "conv_model_stack = Sequential()\n",
    "\n",
    "conv_model_stack.add(Dense(128, input_dim=3, activation='sigmoid'))\n",
    "conv_model_stack.add(RepeatVector(3))\n",
    "\n",
    "\n",
    "# conv_model.add(Lambda(lambda x: x ** 3))\n",
    "\n",
    "# conv_model.add(Permute(2,1))\n",
    "\n",
    "conv_model_stack.add(Conv1D(filters = 64, kernel_size = 3, strides = 1, activation ='sigmoid'))\n",
    "conv_model_stack.add(Dropout(0.5))\n",
    "conv_model_stack.add(MaxPooling1D(pool_size = 2, padding = 'same'))\n",
    "# conv_model.add(Conv1D(filters = 64, kernel_size = 3, activation ='linear'))\n",
    "# conv_model.add(LeakyReLU(alpha=0.1))\n",
    "# conv_model.add(MaxPooling1D(pool_size = 2, padding = 'same'))\n",
    "conv_model_stack.add(Flatten())\n",
    "\n",
    "conv_model_stack.add(Lambda(lambda x: x**2))\n",
    "\n",
    "conv_model_stack.add(Dense(128, activation='sigmoid'))\n",
    "# conv_model.add(LeakyReLU(alpha=0.1))\n",
    "conv_model_stack.add(Dropout(0.05))\n",
    "\n",
    "conv_model_stack.add(Dense(units=1, activation='sigmoid'))\n",
    "\n",
    "conv_model_stack.summary()"
   ]
  },
  {
   "cell_type": "code",
   "execution_count": 95,
   "metadata": {},
   "outputs": [],
   "source": [
    "conv_model_stack.compile(optimizer=Adam(), loss='binary_crossentropy', metrics=['accuracy'])\n",
    "# model.compile(optimizer=Adadelta(), loss='binary_crossentropy', metrics=['accuracy'])"
   ]
  },
  {
   "cell_type": "code",
   "execution_count": 96,
   "metadata": {},
   "outputs": [
    {
     "name": "stdout",
     "output_type": "stream",
     "text": [
      "Epoch 1/50\n",
      "17201/17201 [==============================] - 2s 96us/step - loss: 0.3928 - acc: 0.8119\n",
      "Epoch 2/50\n",
      "17201/17201 [==============================] - 1s 52us/step - loss: 0.2397 - acc: 0.9191\n",
      "Epoch 3/50\n",
      "17201/17201 [==============================] - 1s 68us/step - loss: 0.2354 - acc: 0.9211\n",
      "Epoch 4/50\n",
      "17201/17201 [==============================] - 1s 61us/step - loss: 0.2355 - acc: 0.9213\n",
      "Epoch 5/50\n",
      "17201/17201 [==============================] - 1s 57us/step - loss: 0.2324 - acc: 0.9210\n",
      "Epoch 6/50\n",
      "17201/17201 [==============================] - 1s 58us/step - loss: 0.2334 - acc: 0.9220\n",
      "Epoch 7/50\n",
      "17201/17201 [==============================] - 1s 55us/step - loss: 0.2328 - acc: 0.9201\n",
      "Epoch 8/50\n",
      "17201/17201 [==============================] - 1s 59us/step - loss: 0.2305 - acc: 0.9220\n",
      "Epoch 9/50\n",
      "17201/17201 [==============================] - 1s 60us/step - loss: 0.2279 - acc: 0.9214\n",
      "Epoch 10/50\n",
      "17201/17201 [==============================] - 1s 60us/step - loss: 0.2300 - acc: 0.9224\n",
      "Epoch 11/50\n",
      "17201/17201 [==============================] - 1s 65us/step - loss: 0.2260 - acc: 0.9220\n",
      "Epoch 12/50\n",
      "17201/17201 [==============================] - 1s 51us/step - loss: 0.2269 - acc: 0.9224\n",
      "Epoch 13/50\n",
      "17201/17201 [==============================] - 1s 68us/step - loss: 0.2263 - acc: 0.9227\n",
      "Epoch 14/50\n",
      "17201/17201 [==============================] - 1s 69us/step - loss: 0.2249 - acc: 0.9225\n",
      "Epoch 15/50\n",
      "17201/17201 [==============================] - 1s 76us/step - loss: 0.2246 - acc: 0.9221\n",
      "Epoch 16/50\n",
      "17201/17201 [==============================] - 1s 65us/step - loss: 0.2244 - acc: 0.9224\n",
      "Epoch 17/50\n",
      "17201/17201 [==============================] - 1s 50us/step - loss: 0.2250 - acc: 0.9218\n",
      "Epoch 18/50\n",
      "17201/17201 [==============================] - 1s 48us/step - loss: 0.2248 - acc: 0.9216\n",
      "Epoch 19/50\n",
      "17201/17201 [==============================] - 1s 55us/step - loss: 0.2251 - acc: 0.9222\n",
      "Epoch 20/50\n",
      "17201/17201 [==============================] - 1s 66us/step - loss: 0.2247 - acc: 0.9214\n",
      "Epoch 21/50\n",
      "17201/17201 [==============================] - 1s 68us/step - loss: 0.2250 - acc: 0.9214\n",
      "Epoch 22/50\n",
      "17201/17201 [==============================] - 1s 54us/step - loss: 0.2253 - acc: 0.9217\n",
      "Epoch 23/50\n",
      "17201/17201 [==============================] - 1s 53us/step - loss: 0.2256 - acc: 0.9218\n",
      "Epoch 24/50\n",
      "17201/17201 [==============================] - 1s 58us/step - loss: 0.2243 - acc: 0.9218\n",
      "Epoch 25/50\n",
      "17201/17201 [==============================] - 1s 54us/step - loss: 0.2250 - acc: 0.9216\n",
      "Epoch 26/50\n",
      "17201/17201 [==============================] - 1s 56us/step - loss: 0.2244 - acc: 0.9223\n",
      "Epoch 27/50\n",
      "17201/17201 [==============================] - 1s 54us/step - loss: 0.2246 - acc: 0.9212\n",
      "Epoch 28/50\n",
      "17201/17201 [==============================] - 1s 60us/step - loss: 0.2234 - acc: 0.9221\n",
      "Epoch 29/50\n",
      "17201/17201 [==============================] - 1s 56us/step - loss: 0.2236 - acc: 0.9216\n",
      "Epoch 30/50\n",
      "17201/17201 [==============================] - 1s 63us/step - loss: 0.2243 - acc: 0.9216\n",
      "Epoch 31/50\n",
      "17201/17201 [==============================] - 1s 52us/step - loss: 0.2228 - acc: 0.9225\n",
      "Epoch 32/50\n",
      "17201/17201 [==============================] - 1s 60us/step - loss: 0.2243 - acc: 0.9210\n",
      "Epoch 33/50\n",
      "17201/17201 [==============================] - 1s 59us/step - loss: 0.2234 - acc: 0.9215\n",
      "Epoch 34/50\n",
      "17201/17201 [==============================] - 1s 60us/step - loss: 0.2246 - acc: 0.9208\n",
      "Epoch 35/50\n",
      "17201/17201 [==============================] - 1s 54us/step - loss: 0.2249 - acc: 0.9222\n",
      "Epoch 36/50\n",
      "17201/17201 [==============================] - 1s 53us/step - loss: 0.2244 - acc: 0.9221\n",
      "Epoch 37/50\n",
      "17201/17201 [==============================] - 1s 50us/step - loss: 0.2243 - acc: 0.9224\n",
      "Epoch 38/50\n",
      "17201/17201 [==============================] - 1s 51us/step - loss: 0.2231 - acc: 0.9226\n",
      "Epoch 39/50\n",
      "17201/17201 [==============================] - 1s 52us/step - loss: 0.2243 - acc: 0.9221\n",
      "Epoch 40/50\n",
      "17201/17201 [==============================] - 1s 56us/step - loss: 0.2227 - acc: 0.9228\n",
      "Epoch 41/50\n",
      "17201/17201 [==============================] - 1s 66us/step - loss: 0.2245 - acc: 0.9215\n",
      "Epoch 42/50\n",
      "17201/17201 [==============================] - 1s 56us/step - loss: 0.2241 - acc: 0.9225\n",
      "Epoch 43/50\n",
      "17201/17201 [==============================] - 1s 59us/step - loss: 0.2226 - acc: 0.9227\n",
      "Epoch 44/50\n",
      "17201/17201 [==============================] - 1s 59us/step - loss: 0.2232 - acc: 0.9235\n",
      "Epoch 45/50\n",
      "17201/17201 [==============================] - 1s 54us/step - loss: 0.2224 - acc: 0.9226\n",
      "Epoch 46/50\n",
      "17201/17201 [==============================] - 1s 56us/step - loss: 0.2227 - acc: 0.9222\n",
      "Epoch 47/50\n",
      "17201/17201 [==============================] - 1s 57us/step - loss: 0.2226 - acc: 0.9227\n",
      "Epoch 48/50\n",
      "17201/17201 [==============================] - 1s 55us/step - loss: 0.2224 - acc: 0.9226\n",
      "Epoch 49/50\n",
      "17201/17201 [==============================] - 1s 58us/step - loss: 0.2229 - acc: 0.9227\n",
      "Epoch 50/50\n",
      "17201/17201 [==============================] - 1s 67us/step - loss: 0.2230 - acc: 0.9233\n"
     ]
    },
    {
     "data": {
      "text/plain": [
       "<keras.callbacks.History at 0x7efe8c1a3550>"
      ]
     },
     "execution_count": 96,
     "metadata": {},
     "output_type": "execute_result"
    }
   ],
   "source": [
    "conv_model_stack.fit(S_train, y_train, epochs=50, batch_size=64)"
   ]
  },
  {
   "cell_type": "code",
   "execution_count": 98,
   "metadata": {},
   "outputs": [],
   "source": [
    "#Why\n",
    "y_pred_stack = conv_model_stack.predict(S_test)"
   ]
  },
  {
   "cell_type": "code",
   "execution_count": 99,
   "metadata": {},
   "outputs": [
    {
     "name": "stdout",
     "output_type": "stream",
     "text": [
      "4301/4301 [==============================] - 0s 64us/step\n"
     ]
    },
    {
     "data": {
      "text/plain": [
       "[0.22800226561193326, 0.9207161125319693]"
      ]
     },
     "execution_count": 99,
     "metadata": {},
     "output_type": "execute_result"
    }
   ],
   "source": [
    "conv_model_stack.evaluate(S_test,y_test)"
   ]
  },
  {
   "cell_type": "markdown",
   "metadata": {},
   "source": [
    "## RF to CNN"
   ]
  },
  {
   "cell_type": "code",
   "execution_count": 100,
   "metadata": {},
   "outputs": [],
   "source": [
    "y_pred_rf_s = pd.DataFrame(rf.predict(x_train))\n",
    "y_pred_rf_s = y_pred_rf_s.set_index(y_train.index)\n",
    "y_pred_rf_s = np.rint(y_pred_rf_s)"
   ]
  },
  {
   "cell_type": "code",
   "execution_count": 101,
   "metadata": {},
   "outputs": [
    {
     "name": "stdout",
     "output_type": "stream",
     "text": [
      "_________________________________________________________________\n",
      "Layer (type)                 Output Shape              Param #   \n",
      "=================================================================\n",
      "dense_4 (Dense)              (None, 128)               256       \n",
      "_________________________________________________________________\n",
      "repeat_vector_2 (RepeatVecto (None, 3, 128)            0         \n",
      "_________________________________________________________________\n",
      "conv1d_2 (Conv1D)            (None, 1, 64)             24640     \n",
      "_________________________________________________________________\n",
      "dropout_3 (Dropout)          (None, 1, 64)             0         \n",
      "_________________________________________________________________\n",
      "max_pooling1d_2 (MaxPooling1 (None, 1, 64)             0         \n",
      "_________________________________________________________________\n",
      "flatten_2 (Flatten)          (None, 64)                0         \n",
      "_________________________________________________________________\n",
      "lambda_2 (Lambda)            (None, 64)                0         \n",
      "_________________________________________________________________\n",
      "dense_5 (Dense)              (None, 128)               8320      \n",
      "_________________________________________________________________\n",
      "dropout_4 (Dropout)          (None, 128)               0         \n",
      "_________________________________________________________________\n",
      "dense_6 (Dense)              (None, 1)                 129       \n",
      "=================================================================\n",
      "Total params: 33,345\n",
      "Trainable params: 33,345\n",
      "Non-trainable params: 0\n",
      "_________________________________________________________________\n"
     ]
    }
   ],
   "source": [
    "conv_model_stack_1 = Sequential()\n",
    "\n",
    "conv_model_stack_1.add(Dense(128, input_dim=1, activation='sigmoid'))\n",
    "conv_model_stack_1.add(RepeatVector(3))\n",
    "\n",
    "\n",
    "# conv_model.add(Lambda(lambda x: x ** 3))\n",
    "\n",
    "# conv_model.add(Permute(2,1))\n",
    "\n",
    "conv_model_stack_1.add(Conv1D(filters = 64, kernel_size = 3, strides = 1, activation ='sigmoid'))\n",
    "conv_model_stack_1.add(Dropout(0.5))\n",
    "conv_model_stack_1.add(MaxPooling1D(pool_size = 2, padding = 'same'))\n",
    "# conv_model.add(Conv1D(filters = 64, kernel_size = 3, activation ='linear'))\n",
    "# conv_model.add(LeakyReLU(alpha=0.1))\n",
    "# conv_model.add(MaxPooling1D(pool_size = 2, padding = 'same'))\n",
    "conv_model_stack_1.add(Flatten())\n",
    "\n",
    "conv_model_stack_1.add(Lambda(lambda x: x**2))\n",
    "\n",
    "conv_model_stack_1.add(Dense(128, activation='sigmoid'))\n",
    "# conv_model.add(LeakyReLU(alpha=0.1))\n",
    "conv_model_stack_1.add(Dropout(0.05))\n",
    "\n",
    "conv_model_stack_1.add(Dense(units=1, activation='sigmoid'))\n",
    "\n",
    "conv_model_stack_1.summary()"
   ]
  },
  {
   "cell_type": "code",
   "execution_count": 102,
   "metadata": {},
   "outputs": [],
   "source": [
    "conv_model_stack_1.compile(optimizer=Adam(), loss='binary_crossentropy', metrics=['accuracy'])"
   ]
  },
  {
   "cell_type": "code",
   "execution_count": 103,
   "metadata": {},
   "outputs": [
    {
     "name": "stdout",
     "output_type": "stream",
     "text": [
      "Epoch 1/50\n",
      "17201/17201 [==============================] - 1s 83us/step - loss: 0.4105 - acc: 0.7797\n",
      "Epoch 2/50\n",
      "17201/17201 [==============================] - 1s 57us/step - loss: 0.0059 - acc: 0.9999\n",
      "Epoch 3/50\n",
      "17201/17201 [==============================] - 1s 57us/step - loss: 0.0017 - acc: 1.0000\n",
      "Epoch 4/50\n",
      "17201/17201 [==============================] - 1s 57us/step - loss: 8.5292e-04 - acc: 1.0000\n",
      "Epoch 5/50\n",
      "17201/17201 [==============================] - 1s 58us/step - loss: 5.7239e-04 - acc: 1.0000\n",
      "Epoch 6/50\n",
      "17201/17201 [==============================] - 1s 60us/step - loss: 4.0577e-04 - acc: 1.0000\n",
      "Epoch 7/50\n",
      "17201/17201 [==============================] - 1s 54us/step - loss: 2.7621e-04 - acc: 1.0000\n",
      "Epoch 8/50\n",
      "17201/17201 [==============================] - 1s 57us/step - loss: 2.1278e-04 - acc: 1.0000\n",
      "Epoch 9/50\n",
      "17201/17201 [==============================] - 1s 58us/step - loss: 1.6613e-04 - acc: 1.0000\n",
      "Epoch 10/50\n",
      "17201/17201 [==============================] - 1s 60us/step - loss: 1.3860e-04 - acc: 1.0000\n",
      "Epoch 11/50\n",
      "17201/17201 [==============================] - 1s 71us/step - loss: 1.1842e-04 - acc: 1.0000\n",
      "Epoch 12/50\n",
      "17201/17201 [==============================] - 1s 61us/step - loss: 1.0986e-04 - acc: 1.0000\n",
      "Epoch 13/50\n",
      "17201/17201 [==============================] - 1s 55us/step - loss: 7.2829e-05 - acc: 1.0000\n",
      "Epoch 14/50\n",
      "17201/17201 [==============================] - 1s 53us/step - loss: 5.8854e-05 - acc: 1.0000\n",
      "Epoch 15/50\n",
      "17201/17201 [==============================] - 1s 56us/step - loss: 4.8776e-05 - acc: 1.0000\n",
      "Epoch 16/50\n",
      "17201/17201 [==============================] - 1s 63us/step - loss: 4.5942e-05 - acc: 1.0000\n",
      "Epoch 17/50\n",
      "17201/17201 [==============================] - 1s 62us/step - loss: 3.6668e-05 - acc: 1.0000\n",
      "Epoch 18/50\n",
      "17201/17201 [==============================] - 1s 60us/step - loss: 4.6746e-05 - acc: 1.0000\n",
      "Epoch 19/50\n",
      "17201/17201 [==============================] - 1s 58us/step - loss: 2.8841e-05 - acc: 1.0000\n",
      "Epoch 20/50\n",
      "17201/17201 [==============================] - 1s 54us/step - loss: 2.3356e-05 - acc: 1.0000\n",
      "Epoch 21/50\n",
      "17201/17201 [==============================] - 1s 60us/step - loss: 2.6108e-05 - acc: 1.0000\n",
      "Epoch 22/50\n",
      "17201/17201 [==============================] - 1s 56us/step - loss: 2.6422e-05 - acc: 1.0000\n",
      "Epoch 23/50\n",
      "17201/17201 [==============================] - 1s 63us/step - loss: 1.5732e-05 - acc: 1.0000\n",
      "Epoch 24/50\n",
      "17201/17201 [==============================] - 1s 58us/step - loss: 3.4458e-05 - acc: 1.0000\n",
      "Epoch 25/50\n",
      "17201/17201 [==============================] - 1s 62us/step - loss: 1.4725e-05 - acc: 1.0000\n",
      "Epoch 26/50\n",
      "17201/17201 [==============================] - 1s 65us/step - loss: 1.0221e-05 - acc: 1.0000\n",
      "Epoch 27/50\n",
      "17201/17201 [==============================] - 1s 59us/step - loss: 9.3061e-06 - acc: 1.0000\n",
      "Epoch 28/50\n",
      "17201/17201 [==============================] - 1s 62us/step - loss: 8.4805e-06 - acc: 1.0000\n",
      "Epoch 29/50\n",
      "17201/17201 [==============================] - 1s 73us/step - loss: 7.6326e-06 - acc: 1.0000\n",
      "Epoch 30/50\n",
      "17201/17201 [==============================] - 1s 72us/step - loss: 7.1561e-06 - acc: 1.0000\n",
      "Epoch 31/50\n",
      "17201/17201 [==============================] - 1s 73us/step - loss: 4.2975e-06 - acc: 1.0000\n",
      "Epoch 32/50\n",
      "17201/17201 [==============================] - 1s 77us/step - loss: 7.2435e-06 - acc: 1.0000\n",
      "Epoch 33/50\n",
      "17201/17201 [==============================] - 1s 63us/step - loss: 7.3228e-06 - acc: 1.0000\n",
      "Epoch 34/50\n",
      "17201/17201 [==============================] - 1s 67us/step - loss: 3.1965e-06 - acc: 1.0000\n",
      "Epoch 35/50\n",
      "17201/17201 [==============================] - 1s 47us/step - loss: 5.3837e-06 - acc: 1.0000\n",
      "Epoch 36/50\n",
      "17201/17201 [==============================] - 1s 52us/step - loss: 1.6881e-04 - acc: 0.9999\n",
      "Epoch 37/50\n",
      "17201/17201 [==============================] - 1s 64us/step - loss: 1.1544e-05 - acc: 1.0000\n",
      "Epoch 38/50\n",
      "17201/17201 [==============================] - 1s 51us/step - loss: 4.6607e-06 - acc: 1.0000\n",
      "Epoch 39/50\n",
      "17201/17201 [==============================] - 1s 76us/step - loss: 2.1359e-06 - acc: 1.0000\n",
      "Epoch 40/50\n",
      "17201/17201 [==============================] - 1s 64us/step - loss: 1.8297e-06 - acc: 1.0000\n",
      "Epoch 41/50\n",
      "17201/17201 [==============================] - 1s 55us/step - loss: 2.2094e-06 - acc: 1.0000\n",
      "Epoch 42/50\n",
      "17201/17201 [==============================] - 1s 51us/step - loss: 1.3645e-06 - acc: 1.0000\n",
      "Epoch 43/50\n",
      "17201/17201 [==============================] - 1s 51us/step - loss: 1.3404e-06 - acc: 1.0000\n",
      "Epoch 44/50\n",
      "17201/17201 [==============================] - 1s 50us/step - loss: 1.0545e-06 - acc: 1.0000\n",
      "Epoch 45/50\n",
      "17201/17201 [==============================] - 1s 48us/step - loss: 1.0695e-06 - acc: 1.0000\n",
      "Epoch 46/50\n",
      "17201/17201 [==============================] - 1s 47us/step - loss: 1.0084e-06 - acc: 1.0000\n",
      "Epoch 47/50\n",
      "17201/17201 [==============================] - 1s 49us/step - loss: 7.7145e-07 - acc: 1.0000\n",
      "Epoch 48/50\n",
      "17201/17201 [==============================] - 1s 50us/step - loss: 8.2881e-07 - acc: 1.0000\n",
      "Epoch 49/50\n",
      "17201/17201 [==============================] - 1s 46us/step - loss: 5.9607e-07 - acc: 1.0000\n",
      "Epoch 50/50\n",
      "17201/17201 [==============================] - 1s 46us/step - loss: 8.1562e-07 - acc: 1.0000\n"
     ]
    },
    {
     "data": {
      "text/plain": [
       "<keras.callbacks.History at 0x7efe956d5d68>"
      ]
     },
     "execution_count": 103,
     "metadata": {},
     "output_type": "execute_result"
    }
   ],
   "source": [
    "conv_model_stack_1.fit(y_pred_rf_s, y_train, epochs=50, batch_size=64)"
   ]
  },
  {
   "cell_type": "code",
   "execution_count": 104,
   "metadata": {},
   "outputs": [],
   "source": [
    "y_pred_stack_rf = conv_model_stack_1.predict(bin_y_pred_rf)"
   ]
  },
  {
   "cell_type": "code",
   "execution_count": 105,
   "metadata": {},
   "outputs": [
    {
     "name": "stdout",
     "output_type": "stream",
     "text": [
      "4301/4301 [==============================] - 0s 49us/step\n"
     ]
    },
    {
     "data": {
      "text/plain": [
       "[1.596572347378628, 0.8909555917367135]"
      ]
     },
     "execution_count": 105,
     "metadata": {},
     "output_type": "execute_result"
    }
   ],
   "source": [
    "conv_model_stack_1.evaluate(bin_y_pred_rf,y_test)"
   ]
  }
 ],
 "metadata": {
  "kernelspec": {
   "display_name": "Python 3",
   "language": "python",
   "name": "python3"
  },
  "language_info": {
   "codemirror_mode": {
    "name": "ipython",
    "version": 3
   },
   "file_extension": ".py",
   "mimetype": "text/x-python",
   "name": "python",
   "nbconvert_exporter": "python",
   "pygments_lexer": "ipython3",
   "version": "3.6.8"
  },
  "toc": {
   "base_numbering": 1,
   "nav_menu": {},
   "number_sections": true,
   "sideBar": true,
   "skip_h1_title": false,
   "title_cell": "Table of Contents",
   "title_sidebar": "Contents",
   "toc_cell": false,
   "toc_position": {},
   "toc_section_display": true,
   "toc_window_display": false
  }
 },
 "nbformat": 4,
 "nbformat_minor": 2
}
