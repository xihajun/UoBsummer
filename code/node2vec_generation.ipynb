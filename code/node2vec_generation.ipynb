{
 "cells": [
  {
   "cell_type": "markdown",
   "metadata": {
    "colab_type": "text",
    "id": "view-in-github"
   },
   "source": [
    "<a href=\"https://colab.research.google.com/github/dj311/uob-summer-project/blob/master/code/node2vec_generation.ipynb\" target=\"_parent\"><img src=\"https://colab.research.google.com/assets/colab-badge.svg\" alt=\"Open In Colab\"/></a>"
   ]
  },
  {
   "cell_type": "code",
   "execution_count": 9,
   "metadata": {
    "colab": {
     "base_uri": "https://localhost:8080/",
     "height": 74
    },
    "colab_type": "code",
    "id": "YTxs8PqJTaxk",
    "outputId": "0619b697-ca0b-4a89-bf03-648e4b3d5fee"
   },
   "outputs": [
    {
     "name": "stdout",
     "output_type": "stream",
     "text": [
      "Drive already mounted at /content/drive; to attempt to forcibly remount, call drive.mount(\"/content/drive\", force_remount=True).\n"
     ]
    }
   ],
   "source": [
    "from google.colab import drive\n",
    "drive.mount('/content/drive')"
   ]
  },
  {
   "cell_type": "code",
   "execution_count": 0,
   "metadata": {
    "colab": {},
    "colab_type": "code",
    "id": "wrYxwUJSUkFD"
   },
   "outputs": [],
   "source": [
    "import os\n",
    "os.chdir(\"./drive/My Drive/UoB/\")"
   ]
  },
  {
   "cell_type": "code",
   "execution_count": 0,
   "metadata": {
    "colab": {},
    "colab_type": "code",
    "id": "CwGTgJI6aywr"
   },
   "outputs": [],
   "source": [
    "from multiprocessing import Pool\n",
    "from subprocess import Popen, PIPE\n",
    "import glob\n",
    "import os\n",
    "import subprocess\n",
    "from multiprocessing.dummy import Pool # use threads\n",
    "from subprocess import check_output\n",
    "\n",
    "os.chdir(\"./uob-summer-project-node2vec\")"
   ]
  },
  {
   "cell_type": "code",
   "execution_count": 0,
   "metadata": {
    "colab": {},
    "colab_type": "code",
    "id": "TruS0zcbbaIP"
   },
   "outputs": [],
   "source": [
    "f_list = glob.glob('./node2vec_input/*.txt')\n",
    "out_list = glob.glob('./node2vec_output/*.txt')\n",
    "\n",
    "\n",
    "\n",
    "# get the outputlist\n",
    "def outputlist(input_filename):\n",
    "    temp = input_filename.split('/')\n",
    "    temp[1] = 'node2vec_output'\n",
    "    return \"/\".join(temp)\n",
    "  \n",
    "# get the inputlist\n",
    "def inputlist(input_filename):\n",
    "    temp = input_filename.split('/')\n",
    "    temp[1] = 'node2vec_input'\n",
    "    return \"/\".join(temp)\n",
    "\n",
    "# output_filename coresponds to all the files in the input folder\n",
    "all_output_filename = [outputlist(f_list[i]) for i in range(len(f_list))]\n",
    "\n",
    "output_filename = list(set(all_output_filename).difference(set(out_list)))\n",
    "\n",
    "input_filename = [inputlist(output_filename[i]) for i in range(len(output_filename))]\n",
    "\n",
    "\n",
    "file_name = [[input_filename[i],output_filename[i]] for i in range(len(input_filename))]\n",
    "\n",
    "\n",
    "cmds_list = [['python', './src/main.py','--input',input_filename, '--output', output_filename] for input_filename, output_filename in file_name]\n",
    "\n"
   ]
  },
  {
   "cell_type": "code",
   "execution_count": 0,
   "metadata": {
    "colab": {},
    "colab_type": "code",
    "id": "oPRHzZ5k87H8"
   },
   "outputs": [],
   "source": [
    "len(list(set(input_filename).intersection(set(f_list))))"
   ]
  },
  {
   "cell_type": "code",
   "execution_count": 0,
   "metadata": {
    "colab": {},
    "colab_type": "code",
    "id": "VPHDMJyo87J9"
   },
   "outputs": [],
   "source": [
    "\" \".join(cmds_list[0])"
   ]
  },
  {
   "cell_type": "code",
   "execution_count": 0,
   "metadata": {
    "colab": {},
    "colab_type": "code",
    "id": "Z1XpSwlB87MT"
   },
   "outputs": [],
   "source": [
    "!python \"./src/main.py\" --input ./node2vec_input/64257.txt --output ./node2vec_output/64257.txt"
   ]
  },
  {
   "cell_type": "code",
   "execution_count": 0,
   "metadata": {
    "colab": {},
    "colab_type": "code",
    "id": "-ugxEXd-8-hj"
   },
   "outputs": [],
   "source": [
    "cmds_list[0][-1] in glob.glob('./node2vec_output/*.txt')"
   ]
  },
  {
   "cell_type": "markdown",
   "metadata": {
    "colab_type": "text",
    "id": "Y8WPR2oA8y1d"
   },
   "source": [
    "Parallel"
   ]
  },
  {
   "cell_type": "code",
   "execution_count": 0,
   "metadata": {
    "colab": {
     "base_uri": "https://localhost:8080/",
     "height": 34
    },
    "colab_type": "code",
    "id": "26b5gRaPzvG2",
    "outputId": "2ce721e0-f5b6-404d-d140-7b3f06215656"
   },
   "outputs": [
    {
     "name": "stdout",
     "output_type": "stream",
     "text": [
      "1\n"
     ]
    }
   ],
   "source": [
    "import random\n",
    "random.shuffle(cmds_list)\n",
    "\n",
    "from subprocess import Popen\n",
    "for i in range(1,20):\n",
    "  print(i)\n",
    "  commands = cmds_list[500*i:500*(i+1)]\n",
    "  procs = [ Popen(i) for i in commands ]\n",
    "  for p in procs:\n",
    "     p.wait()"
   ]
  },
  {
   "cell_type": "markdown",
   "metadata": {
    "colab_type": "text",
    "id": "3JvMQX5F8waq"
   },
   "source": [
    "Normal way"
   ]
  },
  {
   "cell_type": "code",
   "execution_count": 0,
   "metadata": {
    "colab": {
     "base_uri": "https://localhost:8080/",
     "height": 108
    },
    "colab_type": "code",
    "id": "MIqwWPHLfFtz",
    "outputId": "0c78630c-d790-4576-929f-4798589014a5"
   },
   "outputs": [
    {
     "name": "stdout",
     "output_type": "stream",
     "text": [
      "fail\n",
      "fail\n",
      "['python', './src/main.py', '--input', './node2vec_input/66027.txt', '--output', './node2vec_output/66027.txt']\n"
     ]
    }
   ],
   "source": [
    "for i in range(len(cmds_list)):\n",
    "    try:\n",
    "        if os.path.exists(cmds_list[i][5]):\n",
    "          print(\"exist\")\n",
    "          continue\n",
    "        else:   \n",
    "          subprocess.run(cmds_list[i])        \n",
    "          print(cmds_list[i])\n",
    "          #subprocess.run([\"rm\",cmds_list[i][3]])\n",
    "\n",
    "    except:\n",
    "        print(\"fail\")"
   ]
  }
 ],
 "metadata": {
  "accelerator": "GPU",
  "colab": {
   "include_colab_link": true,
   "name": "node2vec_generation",
   "provenance": [],
   "version": "0.3.2"
  },
  "kernelspec": {
   "display_name": "Python 3",
   "language": "python",
   "name": "python3"
  },
  "language_info": {
   "codemirror_mode": {
    "name": "ipython",
    "version": 3
   },
   "file_extension": ".py",
   "mimetype": "text/x-python",
   "name": "python",
   "nbconvert_exporter": "python",
   "pygments_lexer": "ipython3",
   "version": "3.7.3"
  }
 },
 "nbformat": 4,
 "nbformat_minor": 1
}
